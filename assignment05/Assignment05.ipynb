{
  "nbformat": 4,
  "nbformat_minor": 0,
  "metadata": {
    "colab": {
      "name": "Assignment05.ipynb",
      "provenance": [],
      "collapsed_sections": [
        "pF37nqQphKii",
        "nnaLTPO0hSlh",
        "dSbKcSj4hynp",
        "qK4dl3eMh6BE"
      ]
    },
    "kernelspec": {
      "name": "python3",
      "display_name": "Python 3"
    },
    "accelerator": "GPU"
  },
  "cells": [
    {
      "cell_type": "markdown",
      "metadata": {
        "id": "-qBR2MRBhFlv"
      },
      "source": [
        "# Assignment 05"
      ]
    },
    {
      "cell_type": "markdown",
      "metadata": {
        "id": "pF37nqQphKii"
      },
      "source": [
        "## Downloading and importing requiered libraries and datasets"
      ]
    },
    {
      "cell_type": "code",
      "metadata": {
        "colab": {
          "base_uri": "https://localhost:8080/"
        },
        "id": "NlDikY-ZrmJd",
        "outputId": "5612962e-e5ee-4a22-ab56-5cf91bb3732c"
      },
      "source": [
        "!pip install numpy\r\n",
        "!pip install tensorflow\r\n",
        "!pip instal matplotib\r\n",
        "!pip install sklearn\r\n",
        "!pip install pandas"
      ],
      "execution_count": 2,
      "outputs": [
        {
          "output_type": "stream",
          "text": [
            "Requirement already satisfied: numpy in /usr/local/lib/python3.6/dist-packages (1.19.5)\n",
            "Requirement already satisfied: tensorflow in /usr/local/lib/python3.6/dist-packages (2.4.1)\n",
            "Requirement already satisfied: gast==0.3.3 in /usr/local/lib/python3.6/dist-packages (from tensorflow) (0.3.3)\n",
            "Requirement already satisfied: numpy~=1.19.2 in /usr/local/lib/python3.6/dist-packages (from tensorflow) (1.19.5)\n",
            "Requirement already satisfied: flatbuffers~=1.12.0 in /usr/local/lib/python3.6/dist-packages (from tensorflow) (1.12)\n",
            "Requirement already satisfied: h5py~=2.10.0 in /usr/local/lib/python3.6/dist-packages (from tensorflow) (2.10.0)\n",
            "Requirement already satisfied: keras-preprocessing~=1.1.2 in /usr/local/lib/python3.6/dist-packages (from tensorflow) (1.1.2)\n",
            "Requirement already satisfied: opt-einsum~=3.3.0 in /usr/local/lib/python3.6/dist-packages (from tensorflow) (3.3.0)\n",
            "Requirement already satisfied: absl-py~=0.10 in /usr/local/lib/python3.6/dist-packages (from tensorflow) (0.10.0)\n",
            "Requirement already satisfied: astunparse~=1.6.3 in /usr/local/lib/python3.6/dist-packages (from tensorflow) (1.6.3)\n",
            "Requirement already satisfied: wrapt~=1.12.1 in /usr/local/lib/python3.6/dist-packages (from tensorflow) (1.12.1)\n",
            "Requirement already satisfied: tensorboard~=2.4 in /usr/local/lib/python3.6/dist-packages (from tensorflow) (2.4.1)\n",
            "Requirement already satisfied: protobuf>=3.9.2 in /usr/local/lib/python3.6/dist-packages (from tensorflow) (3.12.4)\n",
            "Requirement already satisfied: wheel~=0.35 in /usr/local/lib/python3.6/dist-packages (from tensorflow) (0.36.2)\n",
            "Requirement already satisfied: grpcio~=1.32.0 in /usr/local/lib/python3.6/dist-packages (from tensorflow) (1.32.0)\n",
            "Requirement already satisfied: tensorflow-estimator<2.5.0,>=2.4.0 in /usr/local/lib/python3.6/dist-packages (from tensorflow) (2.4.0)\n",
            "Requirement already satisfied: termcolor~=1.1.0 in /usr/local/lib/python3.6/dist-packages (from tensorflow) (1.1.0)\n",
            "Requirement already satisfied: typing-extensions~=3.7.4 in /usr/local/lib/python3.6/dist-packages (from tensorflow) (3.7.4.3)\n",
            "Requirement already satisfied: six~=1.15.0 in /usr/local/lib/python3.6/dist-packages (from tensorflow) (1.15.0)\n",
            "Requirement already satisfied: google-pasta~=0.2 in /usr/local/lib/python3.6/dist-packages (from tensorflow) (0.2.0)\n",
            "Requirement already satisfied: google-auth-oauthlib<0.5,>=0.4.1 in /usr/local/lib/python3.6/dist-packages (from tensorboard~=2.4->tensorflow) (0.4.2)\n",
            "Requirement already satisfied: google-auth<2,>=1.6.3 in /usr/local/lib/python3.6/dist-packages (from tensorboard~=2.4->tensorflow) (1.17.2)\n",
            "Requirement already satisfied: setuptools>=41.0.0 in /usr/local/lib/python3.6/dist-packages (from tensorboard~=2.4->tensorflow) (51.3.3)\n",
            "Requirement already satisfied: requests<3,>=2.21.0 in /usr/local/lib/python3.6/dist-packages (from tensorboard~=2.4->tensorflow) (2.23.0)\n",
            "Requirement already satisfied: werkzeug>=0.11.15 in /usr/local/lib/python3.6/dist-packages (from tensorboard~=2.4->tensorflow) (1.0.1)\n",
            "Requirement already satisfied: tensorboard-plugin-wit>=1.6.0 in /usr/local/lib/python3.6/dist-packages (from tensorboard~=2.4->tensorflow) (1.8.0)\n",
            "Requirement already satisfied: markdown>=2.6.8 in /usr/local/lib/python3.6/dist-packages (from tensorboard~=2.4->tensorflow) (3.3.3)\n",
            "Requirement already satisfied: requests-oauthlib>=0.7.0 in /usr/local/lib/python3.6/dist-packages (from google-auth-oauthlib<0.5,>=0.4.1->tensorboard~=2.4->tensorflow) (1.3.0)\n",
            "Requirement already satisfied: cachetools<5.0,>=2.0.0 in /usr/local/lib/python3.6/dist-packages (from google-auth<2,>=1.6.3->tensorboard~=2.4->tensorflow) (4.2.1)\n",
            "Requirement already satisfied: rsa<5,>=3.1.4; python_version >= \"3\" in /usr/local/lib/python3.6/dist-packages (from google-auth<2,>=1.6.3->tensorboard~=2.4->tensorflow) (4.7)\n",
            "Requirement already satisfied: pyasn1-modules>=0.2.1 in /usr/local/lib/python3.6/dist-packages (from google-auth<2,>=1.6.3->tensorboard~=2.4->tensorflow) (0.2.8)\n",
            "Requirement already satisfied: idna<3,>=2.5 in /usr/local/lib/python3.6/dist-packages (from requests<3,>=2.21.0->tensorboard~=2.4->tensorflow) (2.10)\n",
            "Requirement already satisfied: certifi>=2017.4.17 in /usr/local/lib/python3.6/dist-packages (from requests<3,>=2.21.0->tensorboard~=2.4->tensorflow) (2020.12.5)\n",
            "Requirement already satisfied: chardet<4,>=3.0.2 in /usr/local/lib/python3.6/dist-packages (from requests<3,>=2.21.0->tensorboard~=2.4->tensorflow) (3.0.4)\n",
            "Requirement already satisfied: urllib3!=1.25.0,!=1.25.1,<1.26,>=1.21.1 in /usr/local/lib/python3.6/dist-packages (from requests<3,>=2.21.0->tensorboard~=2.4->tensorflow) (1.24.3)\n",
            "Requirement already satisfied: importlib-metadata; python_version < \"3.8\" in /usr/local/lib/python3.6/dist-packages (from markdown>=2.6.8->tensorboard~=2.4->tensorflow) (3.4.0)\n",
            "Requirement already satisfied: oauthlib>=3.0.0 in /usr/local/lib/python3.6/dist-packages (from requests-oauthlib>=0.7.0->google-auth-oauthlib<0.5,>=0.4.1->tensorboard~=2.4->tensorflow) (3.1.0)\n",
            "Requirement already satisfied: pyasn1>=0.1.3 in /usr/local/lib/python3.6/dist-packages (from rsa<5,>=3.1.4; python_version >= \"3\"->google-auth<2,>=1.6.3->tensorboard~=2.4->tensorflow) (0.4.8)\n",
            "Requirement already satisfied: zipp>=0.5 in /usr/local/lib/python3.6/dist-packages (from importlib-metadata; python_version < \"3.8\"->markdown>=2.6.8->tensorboard~=2.4->tensorflow) (3.4.0)\n",
            "ERROR: unknown command \"instal\" - maybe you meant \"install\"\n",
            "Requirement already satisfied: sklearn in /usr/local/lib/python3.6/dist-packages (0.0)\n",
            "Requirement already satisfied: scikit-learn in /usr/local/lib/python3.6/dist-packages (from sklearn) (0.22.2.post1)\n",
            "Requirement already satisfied: joblib>=0.11 in /usr/local/lib/python3.6/dist-packages (from scikit-learn->sklearn) (1.0.0)\n",
            "Requirement already satisfied: scipy>=0.17.0 in /usr/local/lib/python3.6/dist-packages (from scikit-learn->sklearn) (1.4.1)\n",
            "Requirement already satisfied: numpy>=1.11.0 in /usr/local/lib/python3.6/dist-packages (from scikit-learn->sklearn) (1.19.5)\n",
            "Requirement already satisfied: pandas in /usr/local/lib/python3.6/dist-packages (1.1.5)\n",
            "Requirement already satisfied: numpy>=1.15.4 in /usr/local/lib/python3.6/dist-packages (from pandas) (1.19.5)\n",
            "Requirement already satisfied: python-dateutil>=2.7.3 in /usr/local/lib/python3.6/dist-packages (from pandas) (2.8.1)\n",
            "Requirement already satisfied: pytz>=2017.2 in /usr/local/lib/python3.6/dist-packages (from pandas) (2018.9)\n",
            "Requirement already satisfied: six>=1.5 in /usr/local/lib/python3.6/dist-packages (from python-dateutil>=2.7.3->pandas) (1.15.0)\n"
          ],
          "name": "stdout"
        }
      ]
    },
    {
      "cell_type": "code",
      "metadata": {
        "id": "tWPpAuP_rvMN"
      },
      "source": [
        "import numpy as np\r\n",
        "import tensorflow as tf\r\n",
        "import matplotlib as plt\r\n",
        "import pandas as pd"
      ],
      "execution_count": 3,
      "outputs": []
    },
    {
      "cell_type": "code",
      "metadata": {
        "id": "ilWJWGvnsVTe"
      },
      "source": [
        "tf.random.set_seed(42) #setting seed to 42 to maintain the same shuffle output"
      ],
      "execution_count": 4,
      "outputs": []
    },
    {
      "cell_type": "markdown",
      "metadata": {
        "id": "nnaLTPO0hSlh"
      },
      "source": [
        "## Data intialization & prepairing"
      ]
    },
    {
      "cell_type": "code",
      "metadata": {
        "colab": {
          "base_uri": "https://localhost:8080/"
        },
        "id": "aECNMIH6ryMB",
        "outputId": "544644a0-4120-40d2-f285-842608f90006"
      },
      "source": [
        "(x_train, y_train), (x_test, y_test) = tf.keras.datasets.fashion_mnist.load_data() #getting fashion mnist data\r\n",
        "print(x_train.shape, y_train.shape, x_test.shape, y_test.shape)\r\n",
        "x_train = x_train.reshape(x_train.shape[0], x_train.shape[1], x_train.shape[2], 1) # reshaping data \r\n",
        "x_test = x_test.reshape(x_test.shape[0], x_test.shape[1], x_test.shape[2], 1) # reshaping data\r\n",
        "print(x_train.shape, y_train.shape, x_test.shape, y_test.shape) "
      ],
      "execution_count": 5,
      "outputs": [
        {
          "output_type": "stream",
          "text": [
            "Downloading data from https://storage.googleapis.com/tensorflow/tf-keras-datasets/train-labels-idx1-ubyte.gz\n",
            "32768/29515 [=================================] - 0s 0us/step\n",
            "Downloading data from https://storage.googleapis.com/tensorflow/tf-keras-datasets/train-images-idx3-ubyte.gz\n",
            "26427392/26421880 [==============================] - 0s 0us/step\n",
            "Downloading data from https://storage.googleapis.com/tensorflow/tf-keras-datasets/t10k-labels-idx1-ubyte.gz\n",
            "8192/5148 [===============================================] - 0s 0us/step\n",
            "Downloading data from https://storage.googleapis.com/tensorflow/tf-keras-datasets/t10k-images-idx3-ubyte.gz\n",
            "4423680/4422102 [==============================] - 0s 0us/step\n",
            "(60000, 28, 28) (60000,) (10000, 28, 28) (10000,)\n",
            "(60000, 28, 28, 1) (60000,) (10000, 28, 28, 1) (10000,)\n"
          ],
          "name": "stdout"
        }
      ]
    },
    {
      "cell_type": "code",
      "metadata": {
        "id": "6klVCdJSsler",
        "colab": {
          "base_uri": "https://localhost:8080/"
        },
        "outputId": "fe86a8d5-f94f-40d3-c3b8-b09b0610bcbd"
      },
      "source": [
        "y_train_oh, y_test_oh = tf.one_hot(y_train, depth = len(set(y_train))), tf.one_hot(y_test, depth = len(set(y_test))) #one hot target data\r\n",
        "y_train_oh, y_test_oh"
      ],
      "execution_count": 6,
      "outputs": [
        {
          "output_type": "execute_result",
          "data": {
            "text/plain": [
              "(<tf.Tensor: shape=(60000, 10), dtype=float32, numpy=\n",
              " array([[0., 0., 0., ..., 0., 0., 1.],\n",
              "        [1., 0., 0., ..., 0., 0., 0.],\n",
              "        [1., 0., 0., ..., 0., 0., 0.],\n",
              "        ...,\n",
              "        [0., 0., 0., ..., 0., 0., 0.],\n",
              "        [1., 0., 0., ..., 0., 0., 0.],\n",
              "        [0., 0., 0., ..., 0., 0., 0.]], dtype=float32)>,\n",
              " <tf.Tensor: shape=(10000, 10), dtype=float32, numpy=\n",
              " array([[0., 0., 0., ..., 0., 0., 1.],\n",
              "        [0., 0., 1., ..., 0., 0., 0.],\n",
              "        [0., 1., 0., ..., 0., 0., 0.],\n",
              "        ...,\n",
              "        [0., 0., 0., ..., 0., 1., 0.],\n",
              "        [0., 1., 0., ..., 0., 0., 0.],\n",
              "        [0., 0., 0., ..., 0., 0., 0.]], dtype=float32)>)"
            ]
          },
          "metadata": {
            "tags": []
          },
          "execution_count": 6
        }
      ]
    },
    {
      "cell_type": "markdown",
      "metadata": {
        "id": "cDXJTCQqhmm2"
      },
      "source": [
        "### Create data bathces"
      ]
    },
    {
      "cell_type": "code",
      "metadata": {
        "id": "JuONP6lsW3Iu"
      },
      "source": [
        "def data_creator(x, y, batch_size = 32): #Creating batches data set\r\n",
        "  data = tf.data.Dataset.from_tensor_slices((x, y))\r\n",
        "  data = data.shuffle(28*28)\r\n",
        "  data = data.batch(batch_size)\r\n",
        "  data = data.prefetch(tf.data.experimental.AUTOTUNE)\r\n",
        "  return data"
      ],
      "execution_count": 7,
      "outputs": []
    },
    {
      "cell_type": "code",
      "metadata": {
        "colab": {
          "base_uri": "https://localhost:8080/"
        },
        "id": "E6HKSRGzZIBh",
        "outputId": "1b4ddd06-901b-4999-f1a1-b2cd0de2a322"
      },
      "source": [
        "train_data = data_creator(x_train, y_train)\r\n",
        "test_data = data_creator(x_test, y_test)\r\n",
        "train_data, test_data"
      ],
      "execution_count": 8,
      "outputs": [
        {
          "output_type": "execute_result",
          "data": {
            "text/plain": [
              "(<PrefetchDataset shapes: ((None, 28, 28, 1), (None,)), types: (tf.uint8, tf.uint8)>,\n",
              " <PrefetchDataset shapes: ((None, 28, 28, 1), (None,)), types: (tf.uint8, tf.uint8)>)"
            ]
          },
          "metadata": {
            "tags": []
          },
          "execution_count": 8
        }
      ]
    },
    {
      "cell_type": "markdown",
      "metadata": {
        "id": "dSbKcSj4hynp"
      },
      "source": [
        "## Creating DNN Model"
      ]
    },
    {
      "cell_type": "code",
      "metadata": {
        "id": "YdPWTUmuZRkq"
      },
      "source": [
        "DNN = tf.keras.models.Sequential([\r\n",
        "                                    tf.keras.layers.Input((28,28,1)),\r\n",
        "                                    tf.keras.layers.Dense(64, activation='relu'),\r\n",
        "                                    tf.keras.layers.Dense(128, activation='relu'),\r\n",
        "                                    tf.keras.layers.Flatten(),\r\n",
        "                                    tf.keras.layers.Dropout(0.1),\r\n",
        "                                    tf.keras.layers.Dense(10,activation='softmax')\r\n",
        "])"
      ],
      "execution_count": 78,
      "outputs": []
    },
    {
      "cell_type": "code",
      "metadata": {
        "colab": {
          "base_uri": "https://localhost:8080/"
        },
        "id": "kegyP05KdaMi",
        "outputId": "0ae15b2b-9968-42a5-d070-061e6712749c"
      },
      "source": [
        "DNN.summary()"
      ],
      "execution_count": 79,
      "outputs": [
        {
          "output_type": "stream",
          "text": [
            "Model: \"sequential_12\"\n",
            "_________________________________________________________________\n",
            "Layer (type)                 Output Shape              Param #   \n",
            "=================================================================\n",
            "dense_76 (Dense)             (None, 28, 28, 64)        128       \n",
            "_________________________________________________________________\n",
            "dense_77 (Dense)             (None, 28, 28, 128)       8320      \n",
            "_________________________________________________________________\n",
            "flatten_12 (Flatten)         (None, 100352)            0         \n",
            "_________________________________________________________________\n",
            "dropout_15 (Dropout)         (None, 100352)            0         \n",
            "_________________________________________________________________\n",
            "dense_78 (Dense)             (None, 10)                1003530   \n",
            "=================================================================\n",
            "Total params: 1,011,978\n",
            "Trainable params: 1,011,978\n",
            "Non-trainable params: 0\n",
            "_________________________________________________________________\n"
          ],
          "name": "stdout"
        }
      ]
    },
    {
      "cell_type": "code",
      "metadata": {
        "colab": {
          "base_uri": "https://localhost:8080/",
          "height": 564
        },
        "id": "1o5RWpfOe65W",
        "outputId": "7d8710a6-b040-41d2-ef7f-2446870547f1"
      },
      "source": [
        "tf.keras.utils.plot_model(DNN)"
      ],
      "execution_count": 80,
      "outputs": [
        {
          "output_type": "execute_result",
          "data": {
            "image/png": "[encoded data removed]",
            "text/plain": [
              "<IPython.core.display.Image object>"
            ]
          },
          "metadata": {
            "tags": []
          },
          "execution_count": 80
        }
      ]
    },
    {
      "cell_type": "code",
      "metadata": {
        "id": "HEVDS6ADfAV6"
      },
      "source": [
        "DNN.compile(optimizer = tf.optimizers.Adam(), loss = tf.losses.CategoricalCrossentropy(), metrics = tf.metrics.CategoricalAccuracy())"
      ],
      "execution_count": 81,
      "outputs": []
    },
    {
      "cell_type": "code",
      "metadata": {
        "colab": {
          "base_uri": "https://localhost:8080/"
        },
        "id": "FR50obVrfI97",
        "outputId": "c24b35e1-3760-4666-b002-870fc3b1d36d"
      },
      "source": [
        "DNN.fit(x_train, y_train_oh, epochs = 16, validation_data = (x_test, y_test_oh))"
      ],
      "execution_count": 82,
      "outputs": [
        {
          "output_type": "stream",
          "text": [
            "Epoch 1/16\n",
            "1875/1875 [==============================] - 10s 5ms/step - loss: 5.4857 - categorical_accuracy: 0.7718 - val_loss: 0.4456 - val_categorical_accuracy: 0.8373\n",
            "Epoch 2/16\n",
            "1875/1875 [==============================] - 10s 5ms/step - loss: 0.3922 - categorical_accuracy: 0.8566 - val_loss: 0.4811 - val_categorical_accuracy: 0.8314\n",
            "Epoch 3/16\n",
            "1875/1875 [==============================] - 9s 5ms/step - loss: 0.3958 - categorical_accuracy: 0.8558 - val_loss: 0.4577 - val_categorical_accuracy: 0.8279\n",
            "Epoch 4/16\n",
            "1875/1875 [==============================] - 9s 5ms/step - loss: 0.3884 - categorical_accuracy: 0.8601 - val_loss: 0.4267 - val_categorical_accuracy: 0.8467\n",
            "Epoch 5/16\n",
            "1875/1875 [==============================] - 10s 5ms/step - loss: 0.3721 - categorical_accuracy: 0.8632 - val_loss: 0.4109 - val_categorical_accuracy: 0.8520\n",
            "Epoch 6/16\n",
            "1875/1875 [==============================] - 10s 5ms/step - loss: 0.3649 - categorical_accuracy: 0.8645 - val_loss: 0.4353 - val_categorical_accuracy: 0.8451\n",
            "Epoch 7/16\n",
            "1875/1875 [==============================] - 10s 5ms/step - loss: 0.3443 - categorical_accuracy: 0.8744 - val_loss: 0.4271 - val_categorical_accuracy: 0.8479\n",
            "Epoch 8/16\n",
            "1875/1875 [==============================] - 9s 5ms/step - loss: 0.3387 - categorical_accuracy: 0.8744 - val_loss: 0.4303 - val_categorical_accuracy: 0.8481\n",
            "Epoch 9/16\n",
            "1875/1875 [==============================] - 10s 5ms/step - loss: 0.3377 - categorical_accuracy: 0.8752 - val_loss: 0.4276 - val_categorical_accuracy: 0.8500\n",
            "Epoch 10/16\n",
            "1875/1875 [==============================] - 9s 5ms/step - loss: 0.3280 - categorical_accuracy: 0.8763 - val_loss: 0.4206 - val_categorical_accuracy: 0.8514\n",
            "Epoch 11/16\n",
            "1875/1875 [==============================] - 10s 5ms/step - loss: 0.3252 - categorical_accuracy: 0.8785 - val_loss: 0.4235 - val_categorical_accuracy: 0.8487\n",
            "Epoch 12/16\n",
            "1875/1875 [==============================] - 10s 5ms/step - loss: 0.3152 - categorical_accuracy: 0.8834 - val_loss: 0.4274 - val_categorical_accuracy: 0.8509\n",
            "Epoch 13/16\n",
            "1875/1875 [==============================] - 10s 5ms/step - loss: 0.3124 - categorical_accuracy: 0.8851 - val_loss: 0.4290 - val_categorical_accuracy: 0.8489\n",
            "Epoch 14/16\n",
            "1875/1875 [==============================] - 10s 5ms/step - loss: 0.3094 - categorical_accuracy: 0.8830 - val_loss: 0.4261 - val_categorical_accuracy: 0.8506\n",
            "Epoch 15/16\n",
            "1875/1875 [==============================] - 10s 5ms/step - loss: 0.3086 - categorical_accuracy: 0.8834 - val_loss: 0.4211 - val_categorical_accuracy: 0.8503\n",
            "Epoch 16/16\n",
            "1875/1875 [==============================] - 10s 5ms/step - loss: 0.3003 - categorical_accuracy: 0.8862 - val_loss: 0.4429 - val_categorical_accuracy: 0.8493\n"
          ],
          "name": "stdout"
        },
        {
          "output_type": "execute_result",
          "data": {
            "text/plain": [
              "<tensorflow.python.keras.callbacks.History at 0x7f455c28a9e8>"
            ]
          },
          "metadata": {
            "tags": []
          },
          "execution_count": 82
        }
      ]
    },
    {
      "cell_type": "code",
      "metadata": {
        "colab": {
          "base_uri": "https://localhost:8080/",
          "height": 284
        },
        "id": "ssTEAKXmfUta",
        "outputId": "41ee2e1f-5e17-4e3f-dcb6-f091b4104d77"
      },
      "source": [
        "DNN_df=pd.DataFrame(DNN.history.history)\r\n",
        "DNN_df.plot.line()"
      ],
      "execution_count": 83,
      "outputs": [
        {
          "output_type": "execute_result",
          "data": {
            "text/plain": [
              "<matplotlib.axes._subplots.AxesSubplot at 0x7f4556417390>"
            ]
          },
          "metadata": {
            "tags": []
          },
          "execution_count": 83
        },
        {
          "output_type": "display_data",
          "data": {
            "image/png": "[encoded data removed]",
            "text/plain": [
              "<Figure size 432x288 with 1 Axes>"
            ]
          },
          "metadata": {
            "tags": [],
            "needs_background": "light"
          }
        }
      ]
    },
    {
      "cell_type": "markdown",
      "metadata": {
        "id": "qK4dl3eMh6BE"
      },
      "source": [
        "## Creating CNN Model"
      ]
    },
    {
      "cell_type": "code",
      "metadata": {
        "id": "G_tCgMNBiP-C"
      },
      "source": [
        "CNN = tf.keras.models.Sequential([\r\n",
        "                                    tf.keras.layers.Input((28,28,1)),\r\n",
        "                                    tf.keras.layers.Conv2D(32, 1, activation='relu',padding='same'),\r\n",
        "                                    tf.keras.layers.Dense(64, activation='relu',kernel_regularizer=tf.keras.regularizers.l1_l2(l1=1, l2=2)),\r\n",
        "                                    tf.keras.layers.Conv2D(64, 3, activation='relu',padding='same'),\r\n",
        "                                    tf.keras.layers.Dense(128, activation='relu'),\r\n",
        "                                    tf.keras.layers.Dense(32, activation='relu'),\r\n",
        "                                    tf.keras.layers.Dense(16, activation='relu'),\r\n",
        "                                    tf.keras.layers.Conv2D(128, 5, activation='relu',padding='same'),\r\n",
        "                                    tf.keras.layers.Dense(256, activation='relu'),\r\n",
        "                                    tf.keras.layers.Conv2D(64, 3, activation='relu',padding='same'),\r\n",
        "                                    tf.keras.layers.Dense(128, activation='relu'),\r\n",
        "                                    tf.keras.layers.MaxPooling2D(),\r\n",
        "                                    tf.keras.layers.Flatten(),\r\n",
        "                                    tf.keras.layers.Dropout(0.1),\r\n",
        "                                    tf.keras.layers.Dense(10,activation='softmax')\r\n",
        "])"
      ],
      "execution_count": 68,
      "outputs": []
    },
    {
      "cell_type": "code",
      "metadata": {
        "colab": {
          "base_uri": "https://localhost:8080/"
        },
        "id": "1UCPuHSAiP-T",
        "outputId": "89b0e9bb-f413-4b2a-8c00-a78863fe2e82"
      },
      "source": [
        "DNN.summary()"
      ],
      "execution_count": 69,
      "outputs": [
        {
          "output_type": "stream",
          "text": [
            "Model: \"sequential\"\n",
            "_________________________________________________________________\n",
            "Layer (type)                 Output Shape              Param #   \n",
            "=================================================================\n",
            "dense (Dense)                (None, 28, 28, 64)        128       \n",
            "_________________________________________________________________\n",
            "flatten (Flatten)            (None, 50176)             0         \n",
            "_________________________________________________________________\n",
            "dropout (Dropout)            (None, 50176)             0         \n",
            "_________________________________________________________________\n",
            "dense_1 (Dense)              (None, 10)                501770    \n",
            "=================================================================\n",
            "Total params: 501,898\n",
            "Trainable params: 501,898\n",
            "Non-trainable params: 0\n",
            "_________________________________________________________________\n"
          ],
          "name": "stdout"
        }
      ]
    },
    {
      "cell_type": "code",
      "metadata": {
        "colab": {
          "base_uri": "https://localhost:8080/",
          "height": 1000
        },
        "id": "Aj6bTDBeiP-U",
        "outputId": "b83253ea-4a4d-4360-cc27-85a3475d043d"
      },
      "source": [
        "tf.keras.utils.plot_model(CNN)"
      ],
      "execution_count": 70,
      "outputs": [
        {
          "output_type": "execute_result",
          "data": {
            "image/png": "[encoded data removed]",
            "text/plain": [
              "<IPython.core.display.Image object>"
            ]
          },
          "metadata": {
            "tags": []
          },
          "execution_count": 70
        }
      ]
    },
    {
      "cell_type": "code",
      "metadata": {
        "id": "mQr8iEcliP-V"
      },
      "source": [
        "CNN.compile(optimizer = tf.optimizers.Adam(), loss = tf.losses.CategoricalCrossentropy(), metrics = tf.metrics.CategoricalAccuracy())"
      ],
      "execution_count": 71,
      "outputs": []
    },
    {
      "cell_type": "code",
      "metadata": {
        "colab": {
          "base_uri": "https://localhost:8080/"
        },
        "id": "SLQUEsZViP-V",
        "outputId": "fac7aa16-7c66-4053-c0e1-fd894fbe84cb"
      },
      "source": [
        "CNN.fit(x_train, y_train_oh, epochs = 32, validation_data = (x_test, y_test_oh))"
      ],
      "execution_count": 72,
      "outputs": [
        {
          "output_type": "stream",
          "text": [
            "Epoch 1/32\n",
            "1875/1875 [==============================] - 32s 17ms/step - loss: 60.5845 - categorical_accuracy: 0.7986 - val_loss: 0.6629 - val_categorical_accuracy: 0.8900\n",
            "Epoch 2/32\n",
            "1875/1875 [==============================] - 31s 17ms/step - loss: 0.6723 - categorical_accuracy: 0.9007 - val_loss: 0.7050 - val_categorical_accuracy: 0.8925\n",
            "Epoch 3/32\n",
            "1875/1875 [==============================] - 32s 17ms/step - loss: 0.6151 - categorical_accuracy: 0.9153 - val_loss: 0.6764 - val_categorical_accuracy: 0.8958\n",
            "Epoch 4/32\n",
            "1875/1875 [==============================] - 32s 17ms/step - loss: 0.5949 - categorical_accuracy: 0.9264 - val_loss: 0.5867 - val_categorical_accuracy: 0.9102\n",
            "Epoch 5/32\n",
            "1875/1875 [==============================] - 32s 17ms/step - loss: 0.5098 - categorical_accuracy: 0.9335 - val_loss: 0.6168 - val_categorical_accuracy: 0.9165\n",
            "Epoch 6/32\n",
            "1875/1875 [==============================] - 32s 17ms/step - loss: 0.4935 - categorical_accuracy: 0.9423 - val_loss: 0.5872 - val_categorical_accuracy: 0.9138\n",
            "Epoch 7/32\n",
            "1875/1875 [==============================] - 32s 17ms/step - loss: 0.4694 - categorical_accuracy: 0.9499 - val_loss: 0.5907 - val_categorical_accuracy: 0.9170\n",
            "Epoch 8/32\n",
            "1875/1875 [==============================] - 32s 17ms/step - loss: 0.4379 - categorical_accuracy: 0.9576 - val_loss: 0.5716 - val_categorical_accuracy: 0.9152\n",
            "Epoch 9/32\n",
            "1875/1875 [==============================] - 32s 17ms/step - loss: 0.4281 - categorical_accuracy: 0.9601 - val_loss: 0.6088 - val_categorical_accuracy: 0.9194\n",
            "Epoch 10/32\n",
            "1875/1875 [==============================] - 32s 17ms/step - loss: 0.4148 - categorical_accuracy: 0.9665 - val_loss: 0.6119 - val_categorical_accuracy: 0.9110\n",
            "Epoch 11/32\n",
            "1875/1875 [==============================] - 32s 17ms/step - loss: 0.3882 - categorical_accuracy: 0.9709 - val_loss: 0.6183 - val_categorical_accuracy: 0.9211\n",
            "Epoch 12/32\n",
            "1875/1875 [==============================] - 32s 17ms/step - loss: 0.3949 - categorical_accuracy: 0.9733 - val_loss: 0.7504 - val_categorical_accuracy: 0.9131\n",
            "Epoch 13/32\n",
            "1875/1875 [==============================] - 32s 17ms/step - loss: 0.4005 - categorical_accuracy: 0.9750 - val_loss: 0.6458 - val_categorical_accuracy: 0.9167\n",
            "Epoch 14/32\n",
            "1875/1875 [==============================] - 32s 17ms/step - loss: 0.3845 - categorical_accuracy: 0.9768 - val_loss: 0.7607 - val_categorical_accuracy: 0.9145\n",
            "Epoch 15/32\n",
            "1875/1875 [==============================] - 32s 17ms/step - loss: 0.4928 - categorical_accuracy: 0.9727 - val_loss: 0.5888 - val_categorical_accuracy: 0.9179\n",
            "Epoch 16/32\n",
            "1875/1875 [==============================] - 32s 17ms/step - loss: 0.3339 - categorical_accuracy: 0.9817 - val_loss: 0.7026 - val_categorical_accuracy: 0.9142\n",
            "Epoch 17/32\n",
            "1875/1875 [==============================] - 32s 17ms/step - loss: 0.3340 - categorical_accuracy: 0.9816 - val_loss: 0.6323 - val_categorical_accuracy: 0.9190\n",
            "Epoch 18/32\n",
            "1875/1875 [==============================] - 32s 17ms/step - loss: 0.3431 - categorical_accuracy: 0.9808 - val_loss: 0.6557 - val_categorical_accuracy: 0.9148\n",
            "Epoch 19/32\n",
            "1875/1875 [==============================] - 32s 17ms/step - loss: 0.3308 - categorical_accuracy: 0.9841 - val_loss: 0.6131 - val_categorical_accuracy: 0.9159\n",
            "Epoch 20/32\n",
            "1875/1875 [==============================] - 32s 17ms/step - loss: 0.3250 - categorical_accuracy: 0.9841 - val_loss: 0.6651 - val_categorical_accuracy: 0.9183\n",
            "Epoch 21/32\n",
            "1875/1875 [==============================] - 32s 17ms/step - loss: 0.3240 - categorical_accuracy: 0.9847 - val_loss: 0.7246 - val_categorical_accuracy: 0.9171\n",
            "Epoch 22/32\n",
            "1875/1875 [==============================] - 32s 17ms/step - loss: 0.3133 - categorical_accuracy: 0.9873 - val_loss: 0.6452 - val_categorical_accuracy: 0.9150\n",
            "Epoch 23/32\n",
            "1875/1875 [==============================] - 32s 17ms/step - loss: 0.3195 - categorical_accuracy: 0.9841 - val_loss: 0.6591 - val_categorical_accuracy: 0.9163\n",
            "Epoch 24/32\n",
            "1875/1875 [==============================] - 32s 17ms/step - loss: 0.3178 - categorical_accuracy: 0.9863 - val_loss: 0.7876 - val_categorical_accuracy: 0.9139\n",
            "Epoch 25/32\n",
            "1875/1875 [==============================] - 32s 17ms/step - loss: 0.3289 - categorical_accuracy: 0.9861 - val_loss: 0.7892 - val_categorical_accuracy: 0.9149\n",
            "Epoch 26/32\n",
            "1875/1875 [==============================] - 32s 17ms/step - loss: 0.3094 - categorical_accuracy: 0.9882 - val_loss: 0.7236 - val_categorical_accuracy: 0.9185\n",
            "Epoch 27/32\n",
            "1875/1875 [==============================] - 32s 17ms/step - loss: 0.3031 - categorical_accuracy: 0.9890 - val_loss: 0.7774 - val_categorical_accuracy: 0.9168\n",
            "Epoch 28/32\n",
            "1875/1875 [==============================] - 32s 17ms/step - loss: 0.3672 - categorical_accuracy: 0.9675 - val_loss: 0.7121 - val_categorical_accuracy: 0.9181\n",
            "Epoch 29/32\n",
            "1875/1875 [==============================] - 32s 17ms/step - loss: 0.3069 - categorical_accuracy: 0.9881 - val_loss: 0.7028 - val_categorical_accuracy: 0.9167\n",
            "Epoch 30/32\n",
            "1875/1875 [==============================] - 32s 17ms/step - loss: 0.3055 - categorical_accuracy: 0.9874 - val_loss: 0.7815 - val_categorical_accuracy: 0.9153\n",
            "Epoch 31/32\n",
            "1875/1875 [==============================] - 32s 17ms/step - loss: 0.3158 - categorical_accuracy: 0.9902 - val_loss: 0.9467 - val_categorical_accuracy: 0.9127\n",
            "Epoch 32/32\n",
            "1875/1875 [==============================] - 32s 17ms/step - loss: 0.2943 - categorical_accuracy: 0.9887 - val_loss: 0.8129 - val_categorical_accuracy: 0.9147\n"
          ],
          "name": "stdout"
        },
        {
          "output_type": "execute_result",
          "data": {
            "text/plain": [
              "<tensorflow.python.keras.callbacks.History at 0x7f4564080390>"
            ]
          },
          "metadata": {
            "tags": []
          },
          "execution_count": 72
        }
      ]
    },
    {
      "cell_type": "code",
      "metadata": {
        "colab": {
          "base_uri": "https://localhost:8080/",
          "height": 282
        },
        "id": "OgfD1c8liP-W",
        "outputId": "ce3a4778-db1f-4349-8c6e-5ee8b81760f9"
      },
      "source": [
        "CNN_df=pd.DataFrame(CNN.history.history)\r\n",
        "CNN_df.plot.line()"
      ],
      "execution_count": 73,
      "outputs": [
        {
          "output_type": "execute_result",
          "data": {
            "text/plain": [
              "<matplotlib.axes._subplots.AxesSubplot at 0x7f45641eb080>"
            ]
          },
          "metadata": {
            "tags": []
          },
          "execution_count": 73
        },
        {
          "output_type": "display_data",
          "data": {
            "image/png": "[encoded data removed]",
            "text/plain": [
              "<Figure size 432x288 with 1 Axes>"
            ]
          },
          "metadata": {
            "tags": [],
            "needs_background": "light"
          }
        }
      ]
    },
    {
      "cell_type": "code",
      "metadata": {
        "id": "iyXoWdAaMPM_"
      },
      "source": [
        ""
      ],
      "execution_count": 67,
      "outputs": []
    }
  ]
}