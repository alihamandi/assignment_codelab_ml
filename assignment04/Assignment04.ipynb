{
  "nbformat": 4,
  "nbformat_minor": 0,
  "metadata": {
    "colab": {
      "name": "Assignment04.ipynb",
      "provenance": []
    },
    "kernelspec": {
      "name": "python3",
      "display_name": "Python 3"
    }
  },
  "cells": [
    {
      "cell_type": "markdown",
      "metadata": {
        "id": "uHpMOXUfRnBv"
      },
      "source": [
        "# Assignment 04"
      ]
    },
    {
      "cell_type": "markdown",
      "metadata": {
        "id": "aeUdBaqhRrhX"
      },
      "source": [
        "## Downloading and importing requiered libraries and datasets"
      ]
    },
    {
      "cell_type": "code",
      "metadata": {
        "colab": {
          "base_uri": "https://localhost:8080/"
        },
        "id": "FLjilxpM3Kos",
        "outputId": "43027dcd-bebb-482e-cfd4-f6849b65a775"
      },
      "source": [
        "!pip install numpy\r\n",
        "!pip install tensorflow\r\n",
        "!pip instal matplotib\r\n",
        "!pip install sklearn\r\n",
        "!pip install pandas"
      ],
      "execution_count": 743,
      "outputs": [
        {
          "output_type": "stream",
          "text": [
            "Requirement already satisfied: numpy in /usr/local/lib/python3.6/dist-packages (1.19.5)\n",
            "Requirement already satisfied: tensorflow in /usr/local/lib/python3.6/dist-packages (2.4.0)\n",
            "Requirement already satisfied: absl-py~=0.10 in /usr/local/lib/python3.6/dist-packages (from tensorflow) (0.10.0)\n",
            "Requirement already satisfied: opt-einsum~=3.3.0 in /usr/local/lib/python3.6/dist-packages (from tensorflow) (3.3.0)\n",
            "Requirement already satisfied: keras-preprocessing~=1.1.2 in /usr/local/lib/python3.6/dist-packages (from tensorflow) (1.1.2)\n",
            "Requirement already satisfied: wheel~=0.35 in /usr/local/lib/python3.6/dist-packages (from tensorflow) (0.36.2)\n",
            "Requirement already satisfied: astunparse~=1.6.3 in /usr/local/lib/python3.6/dist-packages (from tensorflow) (1.6.3)\n",
            "Requirement already satisfied: tensorboard~=2.4 in /usr/local/lib/python3.6/dist-packages (from tensorflow) (2.4.0)\n",
            "Requirement already satisfied: termcolor~=1.1.0 in /usr/local/lib/python3.6/dist-packages (from tensorflow) (1.1.0)\n",
            "Requirement already satisfied: grpcio~=1.32.0 in /usr/local/lib/python3.6/dist-packages (from tensorflow) (1.32.0)\n",
            "Requirement already satisfied: six~=1.15.0 in /usr/local/lib/python3.6/dist-packages (from tensorflow) (1.15.0)\n",
            "Requirement already satisfied: protobuf>=3.9.2 in /usr/local/lib/python3.6/dist-packages (from tensorflow) (3.12.4)\n",
            "Requirement already satisfied: wrapt~=1.12.1 in /usr/local/lib/python3.6/dist-packages (from tensorflow) (1.12.1)\n",
            "Requirement already satisfied: gast==0.3.3 in /usr/local/lib/python3.6/dist-packages (from tensorflow) (0.3.3)\n",
            "Requirement already satisfied: typing-extensions~=3.7.4 in /usr/local/lib/python3.6/dist-packages (from tensorflow) (3.7.4.3)\n",
            "Requirement already satisfied: h5py~=2.10.0 in /usr/local/lib/python3.6/dist-packages (from tensorflow) (2.10.0)\n",
            "Requirement already satisfied: tensorflow-estimator<2.5.0,>=2.4.0rc0 in /usr/local/lib/python3.6/dist-packages (from tensorflow) (2.4.0)\n",
            "Requirement already satisfied: flatbuffers~=1.12.0 in /usr/local/lib/python3.6/dist-packages (from tensorflow) (1.12)\n",
            "Requirement already satisfied: numpy~=1.19.2 in /usr/local/lib/python3.6/dist-packages (from tensorflow) (1.19.5)\n",
            "Requirement already satisfied: google-pasta~=0.2 in /usr/local/lib/python3.6/dist-packages (from tensorflow) (0.2.0)\n",
            "Requirement already satisfied: google-auth-oauthlib<0.5,>=0.4.1 in /usr/local/lib/python3.6/dist-packages (from tensorboard~=2.4->tensorflow) (0.4.2)\n",
            "Requirement already satisfied: tensorboard-plugin-wit>=1.6.0 in /usr/local/lib/python3.6/dist-packages (from tensorboard~=2.4->tensorflow) (1.7.0)\n",
            "Requirement already satisfied: setuptools>=41.0.0 in /usr/local/lib/python3.6/dist-packages (from tensorboard~=2.4->tensorflow) (51.3.3)\n",
            "Requirement already satisfied: requests<3,>=2.21.0 in /usr/local/lib/python3.6/dist-packages (from tensorboard~=2.4->tensorflow) (2.23.0)\n",
            "Requirement already satisfied: markdown>=2.6.8 in /usr/local/lib/python3.6/dist-packages (from tensorboard~=2.4->tensorflow) (3.3.3)\n",
            "Requirement already satisfied: werkzeug>=0.11.15 in /usr/local/lib/python3.6/dist-packages (from tensorboard~=2.4->tensorflow) (1.0.1)\n",
            "Requirement already satisfied: google-auth<2,>=1.6.3 in /usr/local/lib/python3.6/dist-packages (from tensorboard~=2.4->tensorflow) (1.17.2)\n",
            "Requirement already satisfied: requests-oauthlib>=0.7.0 in /usr/local/lib/python3.6/dist-packages (from google-auth-oauthlib<0.5,>=0.4.1->tensorboard~=2.4->tensorflow) (1.3.0)\n",
            "Requirement already satisfied: certifi>=2017.4.17 in /usr/local/lib/python3.6/dist-packages (from requests<3,>=2.21.0->tensorboard~=2.4->tensorflow) (2020.12.5)\n",
            "Requirement already satisfied: idna<3,>=2.5 in /usr/local/lib/python3.6/dist-packages (from requests<3,>=2.21.0->tensorboard~=2.4->tensorflow) (2.10)\n",
            "Requirement already satisfied: urllib3!=1.25.0,!=1.25.1,<1.26,>=1.21.1 in /usr/local/lib/python3.6/dist-packages (from requests<3,>=2.21.0->tensorboard~=2.4->tensorflow) (1.24.3)\n",
            "Requirement already satisfied: chardet<4,>=3.0.2 in /usr/local/lib/python3.6/dist-packages (from requests<3,>=2.21.0->tensorboard~=2.4->tensorflow) (3.0.4)\n",
            "Requirement already satisfied: importlib-metadata; python_version < \"3.8\" in /usr/local/lib/python3.6/dist-packages (from markdown>=2.6.8->tensorboard~=2.4->tensorflow) (3.3.0)\n",
            "Requirement already satisfied: pyasn1-modules>=0.2.1 in /usr/local/lib/python3.6/dist-packages (from google-auth<2,>=1.6.3->tensorboard~=2.4->tensorflow) (0.2.8)\n",
            "Requirement already satisfied: cachetools<5.0,>=2.0.0 in /usr/local/lib/python3.6/dist-packages (from google-auth<2,>=1.6.3->tensorboard~=2.4->tensorflow) (4.2.0)\n",
            "Requirement already satisfied: rsa<5,>=3.1.4; python_version >= \"3\" in /usr/local/lib/python3.6/dist-packages (from google-auth<2,>=1.6.3->tensorboard~=2.4->tensorflow) (4.6)\n",
            "Requirement already satisfied: oauthlib>=3.0.0 in /usr/local/lib/python3.6/dist-packages (from requests-oauthlib>=0.7.0->google-auth-oauthlib<0.5,>=0.4.1->tensorboard~=2.4->tensorflow) (3.1.0)\n",
            "Requirement already satisfied: zipp>=0.5 in /usr/local/lib/python3.6/dist-packages (from importlib-metadata; python_version < \"3.8\"->markdown>=2.6.8->tensorboard~=2.4->tensorflow) (3.4.0)\n",
            "Requirement already satisfied: pyasn1<0.5.0,>=0.4.6 in /usr/local/lib/python3.6/dist-packages (from pyasn1-modules>=0.2.1->google-auth<2,>=1.6.3->tensorboard~=2.4->tensorflow) (0.4.8)\n",
            "ERROR: unknown command \"instal\" - maybe you meant \"install\"\n",
            "Requirement already satisfied: sklearn in /usr/local/lib/python3.6/dist-packages (0.0)\n",
            "Requirement already satisfied: scikit-learn in /usr/local/lib/python3.6/dist-packages (from sklearn) (0.22.2.post1)\n",
            "Requirement already satisfied: numpy>=1.11.0 in /usr/local/lib/python3.6/dist-packages (from scikit-learn->sklearn) (1.19.5)\n",
            "Requirement already satisfied: joblib>=0.11 in /usr/local/lib/python3.6/dist-packages (from scikit-learn->sklearn) (1.0.0)\n",
            "Requirement already satisfied: scipy>=0.17.0 in /usr/local/lib/python3.6/dist-packages (from scikit-learn->sklearn) (1.4.1)\n",
            "Requirement already satisfied: pandas in /usr/local/lib/python3.6/dist-packages (1.1.5)\n",
            "Requirement already satisfied: python-dateutil>=2.7.3 in /usr/local/lib/python3.6/dist-packages (from pandas) (2.8.1)\n",
            "Requirement already satisfied: pytz>=2017.2 in /usr/local/lib/python3.6/dist-packages (from pandas) (2018.9)\n",
            "Requirement already satisfied: numpy>=1.15.4 in /usr/local/lib/python3.6/dist-packages (from pandas) (1.19.5)\n",
            "Requirement already satisfied: six>=1.5 in /usr/local/lib/python3.6/dist-packages (from python-dateutil>=2.7.3->pandas) (1.15.0)\n"
          ],
          "name": "stdout"
        }
      ]
    },
    {
      "cell_type": "markdown",
      "metadata": {
        "id": "qxK9dklUpX06"
      },
      "source": [
        "### Importing laibraries"
      ]
    },
    {
      "cell_type": "code",
      "metadata": {
        "id": "RgNov_UmR0GR"
      },
      "source": [
        "import numpy as np\r\n",
        "import tensorflow as tf\r\n",
        "from sklearn import datasets, model_selection\r\n",
        "import matplotlib as plt\r\n",
        "import pandas as pd"
      ],
      "execution_count": 744,
      "outputs": []
    },
    {
      "cell_type": "markdown",
      "metadata": {
        "id": "ZWRD3Zc0R5BD"
      },
      "source": [
        "### Importing data sets"
      ]
    },
    {
      "cell_type": "code",
      "metadata": {
        "id": "xPpyi3b6o2My"
      },
      "source": [
        "x_iris, y_iris = datasets.load_iris(return_X_y = True)\r\n",
        "x_wine, y_wine = datasets.load_wine(return_X_y = True)"
      ],
      "execution_count": 745,
      "outputs": []
    },
    {
      "cell_type": "code",
      "metadata": {
        "colab": {
          "base_uri": "https://localhost:8080/"
        },
        "id": "l0FkZ2XspCPh",
        "outputId": "fba65900-4f96-44d4-881f-3f48defeffae"
      },
      "source": [
        "print('x: ', x_iris, '\\n','y: ', y_iris)\r\n",
        "print('-'*50)\r\n",
        "print('x: ', x_wine, '\\n','y: ', y_wine)"
      ],
      "execution_count": 746,
      "outputs": [
        {
          "output_type": "stream",
          "text": [
            "x:  [[5.1 3.5 1.4 0.2]\n",
            " [4.9 3.  1.4 0.2]\n",
            " [4.7 3.2 1.3 0.2]\n",
            " [4.6 3.1 1.5 0.2]\n",
            " [5.  3.6 1.4 0.2]\n",
            " [5.4 3.9 1.7 0.4]\n",
            " [4.6 3.4 1.4 0.3]\n",
            " [5.  3.4 1.5 0.2]\n",
            " [4.4 2.9 1.4 0.2]\n",
            " [4.9 3.1 1.5 0.1]\n",
            " [5.4 3.7 1.5 0.2]\n",
            " [4.8 3.4 1.6 0.2]\n",
            " [4.8 3.  1.4 0.1]\n",
            " [4.3 3.  1.1 0.1]\n",
            " [5.8 4.  1.2 0.2]\n",
            " [5.7 4.4 1.5 0.4]\n",
            " [5.4 3.9 1.3 0.4]\n",
            " [5.1 3.5 1.4 0.3]\n",
            " [5.7 3.8 1.7 0.3]\n",
            " [5.1 3.8 1.5 0.3]\n",
            " [5.4 3.4 1.7 0.2]\n",
            " [5.1 3.7 1.5 0.4]\n",
            " [4.6 3.6 1.  0.2]\n",
            " [5.1 3.3 1.7 0.5]\n",
            " [4.8 3.4 1.9 0.2]\n",
            " [5.  3.  1.6 0.2]\n",
            " [5.  3.4 1.6 0.4]\n",
            " [5.2 3.5 1.5 0.2]\n",
            " [5.2 3.4 1.4 0.2]\n",
            " [4.7 3.2 1.6 0.2]\n",
            " [4.8 3.1 1.6 0.2]\n",
            " [5.4 3.4 1.5 0.4]\n",
            " [5.2 4.1 1.5 0.1]\n",
            " [5.5 4.2 1.4 0.2]\n",
            " [4.9 3.1 1.5 0.2]\n",
            " [5.  3.2 1.2 0.2]\n",
            " [5.5 3.5 1.3 0.2]\n",
            " [4.9 3.6 1.4 0.1]\n",
            " [4.4 3.  1.3 0.2]\n",
            " [5.1 3.4 1.5 0.2]\n",
            " [5.  3.5 1.3 0.3]\n",
            " [4.5 2.3 1.3 0.3]\n",
            " [4.4 3.2 1.3 0.2]\n",
            " [5.  3.5 1.6 0.6]\n",
            " [5.1 3.8 1.9 0.4]\n",
            " [4.8 3.  1.4 0.3]\n",
            " [5.1 3.8 1.6 0.2]\n",
            " [4.6 3.2 1.4 0.2]\n",
            " [5.3 3.7 1.5 0.2]\n",
            " [5.  3.3 1.4 0.2]\n",
            " [7.  3.2 4.7 1.4]\n",
            " [6.4 3.2 4.5 1.5]\n",
            " [6.9 3.1 4.9 1.5]\n",
            " [5.5 2.3 4.  1.3]\n",
            " [6.5 2.8 4.6 1.5]\n",
            " [5.7 2.8 4.5 1.3]\n",
            " [6.3 3.3 4.7 1.6]\n",
            " [4.9 2.4 3.3 1. ]\n",
            " [6.6 2.9 4.6 1.3]\n",
            " [5.2 2.7 3.9 1.4]\n",
            " [5.  2.  3.5 1. ]\n",
            " [5.9 3.  4.2 1.5]\n",
            " [6.  2.2 4.  1. ]\n",
            " [6.1 2.9 4.7 1.4]\n",
            " [5.6 2.9 3.6 1.3]\n",
            " [6.7 3.1 4.4 1.4]\n",
            " [5.6 3.  4.5 1.5]\n",
            " [5.8 2.7 4.1 1. ]\n",
            " [6.2 2.2 4.5 1.5]\n",
            " [5.6 2.5 3.9 1.1]\n",
            " [5.9 3.2 4.8 1.8]\n",
            " [6.1 2.8 4.  1.3]\n",
            " [6.3 2.5 4.9 1.5]\n",
            " [6.1 2.8 4.7 1.2]\n",
            " [6.4 2.9 4.3 1.3]\n",
            " [6.6 3.  4.4 1.4]\n",
            " [6.8 2.8 4.8 1.4]\n",
            " [6.7 3.  5.  1.7]\n",
            " [6.  2.9 4.5 1.5]\n",
            " [5.7 2.6 3.5 1. ]\n",
            " [5.5 2.4 3.8 1.1]\n",
            " [5.5 2.4 3.7 1. ]\n",
            " [5.8 2.7 3.9 1.2]\n",
            " [6.  2.7 5.1 1.6]\n",
            " [5.4 3.  4.5 1.5]\n",
            " [6.  3.4 4.5 1.6]\n",
            " [6.7 3.1 4.7 1.5]\n",
            " [6.3 2.3 4.4 1.3]\n",
            " [5.6 3.  4.1 1.3]\n",
            " [5.5 2.5 4.  1.3]\n",
            " [5.5 2.6 4.4 1.2]\n",
            " [6.1 3.  4.6 1.4]\n",
            " [5.8 2.6 4.  1.2]\n",
            " [5.  2.3 3.3 1. ]\n",
            " [5.6 2.7 4.2 1.3]\n",
            " [5.7 3.  4.2 1.2]\n",
            " [5.7 2.9 4.2 1.3]\n",
            " [6.2 2.9 4.3 1.3]\n",
            " [5.1 2.5 3.  1.1]\n",
            " [5.7 2.8 4.1 1.3]\n",
            " [6.3 3.3 6.  2.5]\n",
            " [5.8 2.7 5.1 1.9]\n",
            " [7.1 3.  5.9 2.1]\n",
            " [6.3 2.9 5.6 1.8]\n",
            " [6.5 3.  5.8 2.2]\n",
            " [7.6 3.  6.6 2.1]\n",
            " [4.9 2.5 4.5 1.7]\n",
            " [7.3 2.9 6.3 1.8]\n",
            " [6.7 2.5 5.8 1.8]\n",
            " [7.2 3.6 6.1 2.5]\n",
            " [6.5 3.2 5.1 2. ]\n",
            " [6.4 2.7 5.3 1.9]\n",
            " [6.8 3.  5.5 2.1]\n",
            " [5.7 2.5 5.  2. ]\n",
            " [5.8 2.8 5.1 2.4]\n",
            " [6.4 3.2 5.3 2.3]\n",
            " [6.5 3.  5.5 1.8]\n",
            " [7.7 3.8 6.7 2.2]\n",
            " [7.7 2.6 6.9 2.3]\n",
            " [6.  2.2 5.  1.5]\n",
            " [6.9 3.2 5.7 2.3]\n",
            " [5.6 2.8 4.9 2. ]\n",
            " [7.7 2.8 6.7 2. ]\n",
            " [6.3 2.7 4.9 1.8]\n",
            " [6.7 3.3 5.7 2.1]\n",
            " [7.2 3.2 6.  1.8]\n",
            " [6.2 2.8 4.8 1.8]\n",
            " [6.1 3.  4.9 1.8]\n",
            " [6.4 2.8 5.6 2.1]\n",
            " [7.2 3.  5.8 1.6]\n",
            " [7.4 2.8 6.1 1.9]\n",
            " [7.9 3.8 6.4 2. ]\n",
            " [6.4 2.8 5.6 2.2]\n",
            " [6.3 2.8 5.1 1.5]\n",
            " [6.1 2.6 5.6 1.4]\n",
            " [7.7 3.  6.1 2.3]\n",
            " [6.3 3.4 5.6 2.4]\n",
            " [6.4 3.1 5.5 1.8]\n",
            " [6.  3.  4.8 1.8]\n",
            " [6.9 3.1 5.4 2.1]\n",
            " [6.7 3.1 5.6 2.4]\n",
            " [6.9 3.1 5.1 2.3]\n",
            " [5.8 2.7 5.1 1.9]\n",
            " [6.8 3.2 5.9 2.3]\n",
            " [6.7 3.3 5.7 2.5]\n",
            " [6.7 3.  5.2 2.3]\n",
            " [6.3 2.5 5.  1.9]\n",
            " [6.5 3.  5.2 2. ]\n",
            " [6.2 3.4 5.4 2.3]\n",
            " [5.9 3.  5.1 1.8]] \n",
            " y:  [0 0 0 0 0 0 0 0 0 0 0 0 0 0 0 0 0 0 0 0 0 0 0 0 0 0 0 0 0 0 0 0 0 0 0 0 0\n",
            " 0 0 0 0 0 0 0 0 0 0 0 0 0 1 1 1 1 1 1 1 1 1 1 1 1 1 1 1 1 1 1 1 1 1 1 1 1\n",
            " 1 1 1 1 1 1 1 1 1 1 1 1 1 1 1 1 1 1 1 1 1 1 1 1 1 1 2 2 2 2 2 2 2 2 2 2 2\n",
            " 2 2 2 2 2 2 2 2 2 2 2 2 2 2 2 2 2 2 2 2 2 2 2 2 2 2 2 2 2 2 2 2 2 2 2 2 2\n",
            " 2 2]\n",
            "--------------------------------------------------\n",
            "x:  [[1.423e+01 1.710e+00 2.430e+00 ... 1.040e+00 3.920e+00 1.065e+03]\n",
            " [1.320e+01 1.780e+00 2.140e+00 ... 1.050e+00 3.400e+00 1.050e+03]\n",
            " [1.316e+01 2.360e+00 2.670e+00 ... 1.030e+00 3.170e+00 1.185e+03]\n",
            " ...\n",
            " [1.327e+01 4.280e+00 2.260e+00 ... 5.900e-01 1.560e+00 8.350e+02]\n",
            " [1.317e+01 2.590e+00 2.370e+00 ... 6.000e-01 1.620e+00 8.400e+02]\n",
            " [1.413e+01 4.100e+00 2.740e+00 ... 6.100e-01 1.600e+00 5.600e+02]] \n",
            " y:  [0 0 0 0 0 0 0 0 0 0 0 0 0 0 0 0 0 0 0 0 0 0 0 0 0 0 0 0 0 0 0 0 0 0 0 0 0\n",
            " 0 0 0 0 0 0 0 0 0 0 0 0 0 0 0 0 0 0 0 0 0 0 1 1 1 1 1 1 1 1 1 1 1 1 1 1 1\n",
            " 1 1 1 1 1 1 1 1 1 1 1 1 1 1 1 1 1 1 1 1 1 1 1 1 1 1 1 1 1 1 1 1 1 1 1 1 1\n",
            " 1 1 1 1 1 1 1 1 1 1 1 1 1 1 1 1 1 1 1 2 2 2 2 2 2 2 2 2 2 2 2 2 2 2 2 2 2\n",
            " 2 2 2 2 2 2 2 2 2 2 2 2 2 2 2 2 2 2 2 2 2 2 2 2 2 2 2 2 2 2]\n"
          ],
          "name": "stdout"
        }
      ]
    },
    {
      "cell_type": "markdown",
      "metadata": {
        "id": "EATZjjZRxDeL"
      },
      "source": [
        "## Setting the model"
      ]
    },
    {
      "cell_type": "markdown",
      "metadata": {
        "id": "xbW18byXviSX"
      },
      "source": [
        "### Data splitting to start setting models"
      ]
    },
    {
      "cell_type": "code",
      "metadata": {
        "id": "zOk0Ftfss4bC"
      },
      "source": [
        "#Splitting iris dataset to train and test sets\r\n",
        "x_train_iris, x_test_iris, y_train_iris, y_test_iris = model_selection.train_test_split(x_iris, y_iris, test_size = 0.1, stratify = y_iris, random_state = 42) #random states should be setted to 42 and y should be stratified\r\n",
        "#Splitting wine dataset to train and test sets\r\n",
        "x_train_wine, x_test_wine, y_train_wine, y_test_wine = model_selection.train_test_split(x_wine, y_wine, test_size = 0.1, stratify = y_wine, random_state = 42) #random states should be setted to 42 and y should be stratified"
      ],
      "execution_count": 747,
      "outputs": []
    },
    {
      "cell_type": "code",
      "metadata": {
        "colab": {
          "base_uri": "https://localhost:8080/"
        },
        "id": "dSOE1o5ltrK6",
        "outputId": "1500c997-0415-4251-f21e-d63997415e11"
      },
      "source": [
        "#viewing the shape of all the dataset's splits\r\n",
        "x_train_iris.shape, x_test_iris.shape, y_train_iris.shape, y_test_iris.shape"
      ],
      "execution_count": 748,
      "outputs": [
        {
          "output_type": "execute_result",
          "data": {
            "text/plain": [
              "((135, 4), (15, 4), (135,), (15,))"
            ]
          },
          "metadata": {
            "tags": []
          },
          "execution_count": 748
        }
      ]
    },
    {
      "cell_type": "code",
      "metadata": {
        "colab": {
          "base_uri": "https://localhost:8080/"
        },
        "id": "MVKwItqxuPD0",
        "outputId": "4f547f5c-ed87-4896-be80-96d47d6195ca"
      },
      "source": [
        "#viewing the shape of all the dataset's splits\r\n",
        "x_train_wine.shape, x_test_wine.shape, y_train_wine.shape, y_test_wine.shape"
      ],
      "execution_count": 749,
      "outputs": [
        {
          "output_type": "execute_result",
          "data": {
            "text/plain": [
              "((160, 13), (18, 13), (160,), (18,))"
            ]
          },
          "metadata": {
            "tags": []
          },
          "execution_count": 749
        }
      ]
    },
    {
      "cell_type": "code",
      "metadata": {
        "id": "XS84BasWuTQ1"
      },
      "source": [
        "# transforming outputs to  onehot encoding\r\n",
        "y_train_iris_onehot, y_test_iris_onehot = tf.one_hot(y_train_iris, depth = len(set(y_train_iris))), tf.one_hot(y_test_iris, depth = len(set(y_test_iris)))\r\n",
        "\r\n",
        "y_train_wine_onehot, y_test_wine_onehot = tf.one_hot(y_train_wine, depth = len(set(y_train_wine))), tf.one_hot(y_test_wine, depth = len(set(y_test_wine)))"
      ],
      "execution_count": 750,
      "outputs": []
    },
    {
      "cell_type": "markdown",
      "metadata": {
        "id": "9VhW4RHNw7qw"
      },
      "source": [
        "### Building models"
      ]
    },
    {
      "cell_type": "code",
      "metadata": {
        "id": "3XiAJQVHthXA"
      },
      "source": [
        "#Setting tensorflow random state\r\n",
        "tf.random.set_seed(42)"
      ],
      "execution_count": 751,
      "outputs": []
    },
    {
      "cell_type": "code",
      "metadata": {
        "id": "5I0827j_vAri"
      },
      "source": [
        "iris_model = tf.keras.Sequential([\r\n",
        "                                  tf.keras.layers.Input(shape = 4), #equals the shape of the data array\r\n",
        "                                  tf.keras.layers.Dense(units = 128, activation = tf.keras.layers.LeakyReLU(0.1), name = 'L1'), #leaky relu worked good for this model\r\n",
        "                                  tf.keras.layers.Dropout(0.01), #randomly dropping out 1% of the inputs\r\n",
        "                                  tf.keras.layers.Dense(units = len(set(y_train_iris)), activation = 'softmax', name = 'L_out') #outputs layer\r\n",
        "])"
      ],
      "execution_count": 752,
      "outputs": []
    },
    {
      "cell_type": "code",
      "metadata": {
        "id": "SlDKidZ9xF3b"
      },
      "source": [
        "wine_model = tf.keras.Sequential([\r\n",
        "                                  tf.keras.layers.Input(shape = 13), #equals the shape of the data array\r\n",
        "                                  tf.keras.layers.Dense(units = 128, activation = 'sigmoid', name = 'L1'), #sigmoid worked good for this model\r\n",
        "                                  tf.keras.layers.Dropout(0.01), #randomly dropping out 1% of the inputs\r\n",
        "                                  tf.keras.layers.Dense(units = len(set(y_train_wine)), activation = 'softmax', name = 'L_out') #outputs layer\r\n",
        "])"
      ],
      "execution_count": 753,
      "outputs": []
    },
    {
      "cell_type": "markdown",
      "metadata": {
        "id": "kAXz7L3-TZqu"
      },
      "source": [
        "### Model layers summary and flow"
      ]
    },
    {
      "cell_type": "code",
      "metadata": {
        "colab": {
          "base_uri": "https://localhost:8080/"
        },
        "id": "d06feSjKzk33",
        "outputId": "dd02ebb3-85d9-4356-cba8-97a96f346636"
      },
      "source": [
        "iris_model.summary()"
      ],
      "execution_count": 754,
      "outputs": [
        {
          "output_type": "stream",
          "text": [
            "Model: \"sequential_98\"\n",
            "_________________________________________________________________\n",
            "Layer (type)                 Output Shape              Param #   \n",
            "=================================================================\n",
            "L1 (Dense)                   (None, 128)               640       \n",
            "_________________________________________________________________\n",
            "dropout_35 (Dropout)         (None, 128)               0         \n",
            "_________________________________________________________________\n",
            "L_out (Dense)                (None, 3)                 387       \n",
            "=================================================================\n",
            "Total params: 1,027\n",
            "Trainable params: 1,027\n",
            "Non-trainable params: 0\n",
            "_________________________________________________________________\n"
          ],
          "name": "stdout"
        }
      ]
    },
    {
      "cell_type": "code",
      "metadata": {
        "colab": {
          "base_uri": "https://localhost:8080/",
          "height": 369
        },
        "id": "RbmTqlv11Ikf",
        "outputId": "0f9d3720-b455-4e30-a650-5be2afad6883"
      },
      "source": [
        "tf.keras.utils.plot_model(iris_model)"
      ],
      "execution_count": 755,
      "outputs": [
        {
          "output_type": "execute_result",
          "data": {
            "image/png": "[encoded data removed]",
            "text/plain": [
              "<IPython.core.display.Image object>"
            ]
          },
          "metadata": {
            "tags": []
          },
          "execution_count": 755
        }
      ]
    },
    {
      "cell_type": "code",
      "metadata": {
        "colab": {
          "base_uri": "https://localhost:8080/"
        },
        "id": "ARwYj3x4zyV2",
        "outputId": "163cc791-5157-46b1-a3d3-1c4be88ae8bf"
      },
      "source": [
        "wine_model.summary()"
      ],
      "execution_count": 756,
      "outputs": [
        {
          "output_type": "stream",
          "text": [
            "Model: \"sequential_99\"\n",
            "_________________________________________________________________\n",
            "Layer (type)                 Output Shape              Param #   \n",
            "=================================================================\n",
            "L1 (Dense)                   (None, 128)               1792      \n",
            "_________________________________________________________________\n",
            "dropout_36 (Dropout)         (None, 128)               0         \n",
            "_________________________________________________________________\n",
            "L_out (Dense)                (None, 3)                 387       \n",
            "=================================================================\n",
            "Total params: 2,179\n",
            "Trainable params: 2,179\n",
            "Non-trainable params: 0\n",
            "_________________________________________________________________\n"
          ],
          "name": "stdout"
        }
      ]
    },
    {
      "cell_type": "code",
      "metadata": {
        "colab": {
          "base_uri": "https://localhost:8080/",
          "height": 369
        },
        "id": "0SpB7jDf4eBZ",
        "outputId": "869c282c-986a-4bce-e067-5bcb06f74101"
      },
      "source": [
        "tf.keras.utils.plot_model(wine_model)"
      ],
      "execution_count": 757,
      "outputs": [
        {
          "output_type": "execute_result",
          "data": {
            "image/png": "[encoded data removed]",
            "text/plain": [
              "<IPython.core.display.Image object>"
            ]
          },
          "metadata": {
            "tags": []
          },
          "execution_count": 757
        }
      ]
    },
    {
      "cell_type": "markdown",
      "metadata": {
        "id": "SQFT9x2Fz7G6"
      },
      "source": [
        "### Compiling"
      ]
    },
    {
      "cell_type": "code",
      "metadata": {
        "id": "d74OBDUsz9op"
      },
      "source": [
        "iris_model.compile(optimizer = tf.optimizers.Adam(), loss = tf.losses.MeanSquaredError(), metrics = tf.metrics.CategoricalAccuracy())"
      ],
      "execution_count": 758,
      "outputs": []
    },
    {
      "cell_type": "code",
      "metadata": {
        "id": "T2yYO6zj0aXA"
      },
      "source": [
        "wine_model.compile(optimizer = tf.optimizers.Adam(), loss = tf.losses.MeanSquaredError(), metrics = tf.metrics.CategoricalAccuracy())"
      ],
      "execution_count": 759,
      "outputs": []
    },
    {
      "cell_type": "markdown",
      "metadata": {
        "id": "i0Iphxd40djn"
      },
      "source": [
        "### Fitting"
      ]
    },
    {
      "cell_type": "code",
      "metadata": {
        "colab": {
          "base_uri": "https://localhost:8080/"
        },
        "id": "4RTsfUSg0hfZ",
        "outputId": "b266441a-c614-4f2c-e38a-610cc23932ac"
      },
      "source": [
        "iris_model.fit(x_train_iris, y_train_iris_onehot, epochs = 64, validation_data = (x_test_iris, y_test_iris_onehot))"
      ],
      "execution_count": 760,
      "outputs": [
        {
          "output_type": "stream",
          "text": [
            "Epoch 1/64\n",
            "5/5 [==============================] - 0s 38ms/step - loss: 0.2483 - categorical_accuracy: 0.3183 - val_loss: 0.2280 - val_categorical_accuracy: 0.3333\n",
            "Epoch 2/64\n",
            "5/5 [==============================] - 0s 9ms/step - loss: 0.2301 - categorical_accuracy: 0.2677 - val_loss: 0.2117 - val_categorical_accuracy: 0.3333\n",
            "Epoch 3/64\n",
            "5/5 [==============================] - 0s 10ms/step - loss: 0.2168 - categorical_accuracy: 0.3474 - val_loss: 0.1947 - val_categorical_accuracy: 0.6667\n",
            "Epoch 4/64\n",
            "5/5 [==============================] - 0s 10ms/step - loss: 0.1956 - categorical_accuracy: 0.6543 - val_loss: 0.1781 - val_categorical_accuracy: 0.6667\n",
            "Epoch 5/64\n",
            "5/5 [==============================] - 0s 11ms/step - loss: 0.1795 - categorical_accuracy: 0.6633 - val_loss: 0.1620 - val_categorical_accuracy: 0.6667\n",
            "Epoch 6/64\n",
            "5/5 [==============================] - 0s 10ms/step - loss: 0.1591 - categorical_accuracy: 0.7123 - val_loss: 0.1490 - val_categorical_accuracy: 0.6667\n",
            "Epoch 7/64\n",
            "5/5 [==============================] - 0s 9ms/step - loss: 0.1467 - categorical_accuracy: 0.6775 - val_loss: 0.1378 - val_categorical_accuracy: 0.6667\n",
            "Epoch 8/64\n",
            "5/5 [==============================] - 0s 9ms/step - loss: 0.1434 - categorical_accuracy: 0.6645 - val_loss: 0.1277 - val_categorical_accuracy: 0.6667\n",
            "Epoch 9/64\n",
            "5/5 [==============================] - 0s 9ms/step - loss: 0.1277 - categorical_accuracy: 0.6994 - val_loss: 0.1200 - val_categorical_accuracy: 0.8667\n",
            "Epoch 10/64\n",
            "5/5 [==============================] - 0s 12ms/step - loss: 0.1262 - categorical_accuracy: 0.8408 - val_loss: 0.1129 - val_categorical_accuracy: 0.9333\n",
            "Epoch 11/64\n",
            "5/5 [==============================] - 0s 9ms/step - loss: 0.1156 - categorical_accuracy: 0.8425 - val_loss: 0.1079 - val_categorical_accuracy: 0.6667\n",
            "Epoch 12/64\n",
            "5/5 [==============================] - 0s 9ms/step - loss: 0.1162 - categorical_accuracy: 0.6771 - val_loss: 0.1083 - val_categorical_accuracy: 0.6667\n",
            "Epoch 13/64\n",
            "5/5 [==============================] - 0s 9ms/step - loss: 0.1058 - categorical_accuracy: 0.7050 - val_loss: 0.1060 - val_categorical_accuracy: 0.6667\n",
            "Epoch 14/64\n",
            "5/5 [==============================] - 0s 9ms/step - loss: 0.1033 - categorical_accuracy: 0.6840 - val_loss: 0.0988 - val_categorical_accuracy: 0.6667\n",
            "Epoch 15/64\n",
            "5/5 [==============================] - 0s 10ms/step - loss: 0.1099 - categorical_accuracy: 0.7254 - val_loss: 0.0952 - val_categorical_accuracy: 1.0000\n",
            "Epoch 16/64\n",
            "5/5 [==============================] - 0s 10ms/step - loss: 0.1021 - categorical_accuracy: 0.9455 - val_loss: 0.0917 - val_categorical_accuracy: 0.9333\n",
            "Epoch 17/64\n",
            "5/5 [==============================] - 0s 10ms/step - loss: 0.0934 - categorical_accuracy: 0.8602 - val_loss: 0.0896 - val_categorical_accuracy: 0.9333\n",
            "Epoch 18/64\n",
            "5/5 [==============================] - 0s 13ms/step - loss: 0.0896 - categorical_accuracy: 0.8638 - val_loss: 0.0866 - val_categorical_accuracy: 0.9333\n",
            "Epoch 19/64\n",
            "5/5 [==============================] - 0s 9ms/step - loss: 0.0896 - categorical_accuracy: 0.8431 - val_loss: 0.0846 - val_categorical_accuracy: 0.9333\n",
            "Epoch 20/64\n",
            "5/5 [==============================] - 0s 10ms/step - loss: 0.0894 - categorical_accuracy: 0.8500 - val_loss: 0.0820 - val_categorical_accuracy: 0.9333\n",
            "Epoch 21/64\n",
            "5/5 [==============================] - 0s 10ms/step - loss: 0.0836 - categorical_accuracy: 0.9228 - val_loss: 0.0796 - val_categorical_accuracy: 0.9333\n",
            "Epoch 22/64\n",
            "5/5 [==============================] - 0s 9ms/step - loss: 0.0819 - categorical_accuracy: 0.9490 - val_loss: 0.0776 - val_categorical_accuracy: 0.9333\n",
            "Epoch 23/64\n",
            "5/5 [==============================] - 0s 9ms/step - loss: 0.0804 - categorical_accuracy: 0.9453 - val_loss: 0.0756 - val_categorical_accuracy: 0.9333\n",
            "Epoch 24/64\n",
            "5/5 [==============================] - 0s 10ms/step - loss: 0.0802 - categorical_accuracy: 0.9017 - val_loss: 0.0740 - val_categorical_accuracy: 0.9333\n",
            "Epoch 25/64\n",
            "5/5 [==============================] - 0s 111ms/step - loss: 0.0856 - categorical_accuracy: 0.8844 - val_loss: 0.0715 - val_categorical_accuracy: 0.9333\n",
            "Epoch 26/64\n",
            "5/5 [==============================] - 0s 10ms/step - loss: 0.0767 - categorical_accuracy: 0.9638 - val_loss: 0.0699 - val_categorical_accuracy: 1.0000\n",
            "Epoch 27/64\n",
            "5/5 [==============================] - 0s 10ms/step - loss: 0.0746 - categorical_accuracy: 0.9693 - val_loss: 0.0672 - val_categorical_accuracy: 1.0000\n",
            "Epoch 28/64\n",
            "5/5 [==============================] - 0s 10ms/step - loss: 0.0678 - categorical_accuracy: 0.9676 - val_loss: 0.0650 - val_categorical_accuracy: 1.0000\n",
            "Epoch 29/64\n",
            "5/5 [==============================] - 0s 11ms/step - loss: 0.0682 - categorical_accuracy: 0.9493 - val_loss: 0.0639 - val_categorical_accuracy: 0.9333\n",
            "Epoch 30/64\n",
            "5/5 [==============================] - 0s 10ms/step - loss: 0.0683 - categorical_accuracy: 0.9571 - val_loss: 0.0617 - val_categorical_accuracy: 0.9333\n",
            "Epoch 31/64\n",
            "5/5 [==============================] - 0s 11ms/step - loss: 0.0672 - categorical_accuracy: 0.9571 - val_loss: 0.0599 - val_categorical_accuracy: 0.9333\n",
            "Epoch 32/64\n",
            "5/5 [==============================] - 0s 12ms/step - loss: 0.0660 - categorical_accuracy: 0.9531 - val_loss: 0.0589 - val_categorical_accuracy: 0.9333\n",
            "Epoch 33/64\n",
            "5/5 [==============================] - 0s 11ms/step - loss: 0.0645 - categorical_accuracy: 0.9221 - val_loss: 0.0567 - val_categorical_accuracy: 0.9333\n",
            "Epoch 34/64\n",
            "5/5 [==============================] - 0s 10ms/step - loss: 0.0591 - categorical_accuracy: 0.9597 - val_loss: 0.0548 - val_categorical_accuracy: 1.0000\n",
            "Epoch 35/64\n",
            "5/5 [==============================] - 0s 10ms/step - loss: 0.0581 - categorical_accuracy: 0.9716 - val_loss: 0.0548 - val_categorical_accuracy: 1.0000\n",
            "Epoch 36/64\n",
            "5/5 [==============================] - 0s 10ms/step - loss: 0.0615 - categorical_accuracy: 0.9748 - val_loss: 0.0519 - val_categorical_accuracy: 1.0000\n",
            "Epoch 37/64\n",
            "5/5 [==============================] - 0s 10ms/step - loss: 0.0597 - categorical_accuracy: 0.9757 - val_loss: 0.0499 - val_categorical_accuracy: 1.0000\n",
            "Epoch 38/64\n",
            "5/5 [==============================] - 0s 10ms/step - loss: 0.0545 - categorical_accuracy: 0.9597 - val_loss: 0.0487 - val_categorical_accuracy: 1.0000\n",
            "Epoch 39/64\n",
            "5/5 [==============================] - 0s 10ms/step - loss: 0.0534 - categorical_accuracy: 0.9881 - val_loss: 0.0472 - val_categorical_accuracy: 1.0000\n",
            "Epoch 40/64\n",
            "5/5 [==============================] - 0s 10ms/step - loss: 0.0521 - categorical_accuracy: 0.9567 - val_loss: 0.0468 - val_categorical_accuracy: 0.9333\n",
            "Epoch 41/64\n",
            "5/5 [==============================] - 0s 10ms/step - loss: 0.0529 - categorical_accuracy: 0.9568 - val_loss: 0.0453 - val_categorical_accuracy: 1.0000\n",
            "Epoch 42/64\n",
            "5/5 [==============================] - 0s 10ms/step - loss: 0.0524 - categorical_accuracy: 0.9761 - val_loss: 0.0464 - val_categorical_accuracy: 1.0000\n",
            "Epoch 43/64\n",
            "5/5 [==============================] - 0s 10ms/step - loss: 0.0497 - categorical_accuracy: 0.9513 - val_loss: 0.0435 - val_categorical_accuracy: 1.0000\n",
            "Epoch 44/64\n",
            "5/5 [==============================] - 0s 10ms/step - loss: 0.0516 - categorical_accuracy: 0.9751 - val_loss: 0.0430 - val_categorical_accuracy: 0.9333\n",
            "Epoch 45/64\n",
            "5/5 [==============================] - 0s 10ms/step - loss: 0.0460 - categorical_accuracy: 0.9665 - val_loss: 0.0401 - val_categorical_accuracy: 1.0000\n",
            "Epoch 46/64\n",
            "5/5 [==============================] - 0s 11ms/step - loss: 0.0481 - categorical_accuracy: 0.9612 - val_loss: 0.0423 - val_categorical_accuracy: 1.0000\n",
            "Epoch 47/64\n",
            "5/5 [==============================] - 0s 12ms/step - loss: 0.0462 - categorical_accuracy: 0.9534 - val_loss: 0.0391 - val_categorical_accuracy: 1.0000\n",
            "Epoch 48/64\n",
            "5/5 [==============================] - 0s 10ms/step - loss: 0.0434 - categorical_accuracy: 0.9826 - val_loss: 0.0370 - val_categorical_accuracy: 1.0000\n",
            "Epoch 49/64\n",
            "5/5 [==============================] - 0s 10ms/step - loss: 0.0459 - categorical_accuracy: 0.9625 - val_loss: 0.0368 - val_categorical_accuracy: 1.0000\n",
            "Epoch 50/64\n",
            "5/5 [==============================] - 0s 10ms/step - loss: 0.0419 - categorical_accuracy: 0.9788 - val_loss: 0.0371 - val_categorical_accuracy: 1.0000\n",
            "Epoch 51/64\n",
            "5/5 [==============================] - 0s 9ms/step - loss: 0.0423 - categorical_accuracy: 0.9890 - val_loss: 0.0358 - val_categorical_accuracy: 1.0000\n",
            "Epoch 52/64\n",
            "5/5 [==============================] - 0s 12ms/step - loss: 0.0457 - categorical_accuracy: 0.9573 - val_loss: 0.0338 - val_categorical_accuracy: 1.0000\n",
            "Epoch 53/64\n",
            "5/5 [==============================] - 0s 9ms/step - loss: 0.0389 - categorical_accuracy: 0.9742 - val_loss: 0.0329 - val_categorical_accuracy: 1.0000\n",
            "Epoch 54/64\n",
            "5/5 [==============================] - 0s 10ms/step - loss: 0.0435 - categorical_accuracy: 0.9573 - val_loss: 0.0385 - val_categorical_accuracy: 1.0000\n",
            "Epoch 55/64\n",
            "5/5 [==============================] - 0s 9ms/step - loss: 0.0410 - categorical_accuracy: 0.9560 - val_loss: 0.0312 - val_categorical_accuracy: 1.0000\n",
            "Epoch 56/64\n",
            "5/5 [==============================] - 0s 9ms/step - loss: 0.0377 - categorical_accuracy: 0.9731 - val_loss: 0.0304 - val_categorical_accuracy: 1.0000\n",
            "Epoch 57/64\n",
            "5/5 [==============================] - 0s 10ms/step - loss: 0.0363 - categorical_accuracy: 0.9629 - val_loss: 0.0297 - val_categorical_accuracy: 1.0000\n",
            "Epoch 58/64\n",
            "5/5 [==============================] - 0s 10ms/step - loss: 0.0382 - categorical_accuracy: 0.9783 - val_loss: 0.0293 - val_categorical_accuracy: 1.0000\n",
            "Epoch 59/64\n",
            "5/5 [==============================] - 0s 11ms/step - loss: 0.0342 - categorical_accuracy: 0.9774 - val_loss: 0.0285 - val_categorical_accuracy: 1.0000\n",
            "Epoch 60/64\n",
            "5/5 [==============================] - 0s 11ms/step - loss: 0.0347 - categorical_accuracy: 0.9696 - val_loss: 0.0279 - val_categorical_accuracy: 1.0000\n",
            "Epoch 61/64\n",
            "5/5 [==============================] - 0s 10ms/step - loss: 0.0364 - categorical_accuracy: 0.9719 - val_loss: 0.0277 - val_categorical_accuracy: 1.0000\n",
            "Epoch 62/64\n",
            "5/5 [==============================] - 0s 10ms/step - loss: 0.0363 - categorical_accuracy: 0.9538 - val_loss: 0.0271 - val_categorical_accuracy: 1.0000\n",
            "Epoch 63/64\n",
            "5/5 [==============================] - 0s 10ms/step - loss: 0.0353 - categorical_accuracy: 0.9696 - val_loss: 0.0266 - val_categorical_accuracy: 1.0000\n",
            "Epoch 64/64\n",
            "5/5 [==============================] - 0s 10ms/step - loss: 0.0340 - categorical_accuracy: 0.9852 - val_loss: 0.0257 - val_categorical_accuracy: 1.0000\n"
          ],
          "name": "stdout"
        },
        {
          "output_type": "execute_result",
          "data": {
            "text/plain": [
              "<tensorflow.python.keras.callbacks.History at 0x7fc709826a20>"
            ]
          },
          "metadata": {
            "tags": []
          },
          "execution_count": 760
        }
      ]
    },
    {
      "cell_type": "code",
      "metadata": {
        "colab": {
          "base_uri": "https://localhost:8080/",
          "height": 282
        },
        "id": "ERnP18vn3zdo",
        "outputId": "9b41f22e-03c4-4ef0-e4da-0a6d4dfb6027"
      },
      "source": [
        "# ploting the output graphs\r\n",
        "iris_df=pd.DataFrame(iris_model.history.history)\r\n",
        "iris_df.plot.line()"
      ],
      "execution_count": 761,
      "outputs": [
        {
          "output_type": "execute_result",
          "data": {
            "text/plain": [
              "<matplotlib.axes._subplots.AxesSubplot at 0x7fc709a1a320>"
            ]
          },
          "metadata": {
            "tags": []
          },
          "execution_count": 761
        },
        {
          "output_type": "display_data",
          "data": {
            "image/png": "[encoded data removed]",
            "text/plain": [
              "<Figure size 432x288 with 1 Axes>"
            ]
          },
          "metadata": {
            "tags": [],
            "needs_background": "light"
          }
        }
      ]
    },
    {
      "cell_type": "code",
      "metadata": {
        "colab": {
          "base_uri": "https://localhost:8080/"
        },
        "id": "9X_v6Pr105AP",
        "outputId": "3ce5431b-3ac7-413d-e908-cd5f14e67520"
      },
      "source": [
        "wine_model.fit(x_train_wine, y_train_wine_onehot, epochs = 64, validation_data = (x_test_wine, y_test_wine_onehot))"
      ],
      "execution_count": 762,
      "outputs": [
        {
          "output_type": "stream",
          "text": [
            "Epoch 1/64\n",
            "5/5 [==============================] - 0s 40ms/step - loss: 0.2799 - categorical_accuracy: 0.3384 - val_loss: 0.2431 - val_categorical_accuracy: 0.3333\n",
            "Epoch 2/64\n",
            "5/5 [==============================] - 0s 9ms/step - loss: 0.2404 - categorical_accuracy: 0.3929 - val_loss: 0.2220 - val_categorical_accuracy: 0.6111\n",
            "Epoch 3/64\n",
            "5/5 [==============================] - 0s 10ms/step - loss: 0.2244 - categorical_accuracy: 0.4274 - val_loss: 0.2132 - val_categorical_accuracy: 0.5000\n",
            "Epoch 4/64\n",
            "5/5 [==============================] - 0s 9ms/step - loss: 0.2129 - categorical_accuracy: 0.3445 - val_loss: 0.2034 - val_categorical_accuracy: 0.3889\n",
            "Epoch 5/64\n",
            "5/5 [==============================] - 0s 9ms/step - loss: 0.2111 - categorical_accuracy: 0.3675 - val_loss: 0.1971 - val_categorical_accuracy: 0.3889\n",
            "Epoch 6/64\n",
            "5/5 [==============================] - 0s 10ms/step - loss: 0.1993 - categorical_accuracy: 0.5519 - val_loss: 0.1943 - val_categorical_accuracy: 0.6667\n",
            "Epoch 7/64\n",
            "5/5 [==============================] - 0s 9ms/step - loss: 0.1995 - categorical_accuracy: 0.6144 - val_loss: 0.1909 - val_categorical_accuracy: 0.6667\n",
            "Epoch 8/64\n",
            "5/5 [==============================] - 0s 9ms/step - loss: 0.2001 - categorical_accuracy: 0.6039 - val_loss: 0.1875 - val_categorical_accuracy: 0.7222\n",
            "Epoch 9/64\n",
            "5/5 [==============================] - 0s 9ms/step - loss: 0.1984 - categorical_accuracy: 0.6246 - val_loss: 0.1827 - val_categorical_accuracy: 0.7222\n",
            "Epoch 10/64\n",
            "5/5 [==============================] - 0s 9ms/step - loss: 0.1961 - categorical_accuracy: 0.5951 - val_loss: 0.1748 - val_categorical_accuracy: 0.7222\n",
            "Epoch 11/64\n",
            "5/5 [==============================] - 0s 10ms/step - loss: 0.1925 - categorical_accuracy: 0.5643 - val_loss: 0.1652 - val_categorical_accuracy: 0.7222\n",
            "Epoch 12/64\n",
            "5/5 [==============================] - 0s 9ms/step - loss: 0.1875 - categorical_accuracy: 0.6137 - val_loss: 0.1607 - val_categorical_accuracy: 0.7222\n",
            "Epoch 13/64\n",
            "5/5 [==============================] - 0s 10ms/step - loss: 0.1763 - categorical_accuracy: 0.6425 - val_loss: 0.1602 - val_categorical_accuracy: 0.7222\n",
            "Epoch 14/64\n",
            "5/5 [==============================] - 0s 10ms/step - loss: 0.1707 - categorical_accuracy: 0.6285 - val_loss: 0.1522 - val_categorical_accuracy: 0.7222\n",
            "Epoch 15/64\n",
            "5/5 [==============================] - 0s 10ms/step - loss: 0.1680 - categorical_accuracy: 0.6516 - val_loss: 0.1445 - val_categorical_accuracy: 0.7222\n",
            "Epoch 16/64\n",
            "5/5 [==============================] - 0s 10ms/step - loss: 0.1636 - categorical_accuracy: 0.6644 - val_loss: 0.1382 - val_categorical_accuracy: 0.7222\n",
            "Epoch 17/64\n",
            "5/5 [==============================] - 0s 9ms/step - loss: 0.1522 - categorical_accuracy: 0.6915 - val_loss: 0.1371 - val_categorical_accuracy: 0.7222\n",
            "Epoch 18/64\n",
            "5/5 [==============================] - 0s 11ms/step - loss: 0.1542 - categorical_accuracy: 0.6676 - val_loss: 0.1336 - val_categorical_accuracy: 0.7222\n",
            "Epoch 19/64\n",
            "5/5 [==============================] - 0s 11ms/step - loss: 0.1563 - categorical_accuracy: 0.6321 - val_loss: 0.1277 - val_categorical_accuracy: 0.7222\n",
            "Epoch 20/64\n",
            "5/5 [==============================] - 0s 10ms/step - loss: 0.1486 - categorical_accuracy: 0.6904 - val_loss: 0.1274 - val_categorical_accuracy: 0.7222\n",
            "Epoch 21/64\n",
            "5/5 [==============================] - 0s 9ms/step - loss: 0.1496 - categorical_accuracy: 0.6641 - val_loss: 0.1219 - val_categorical_accuracy: 0.7222\n",
            "Epoch 22/64\n",
            "5/5 [==============================] - 0s 10ms/step - loss: 0.1443 - categorical_accuracy: 0.6931 - val_loss: 0.1213 - val_categorical_accuracy: 0.7222\n",
            "Epoch 23/64\n",
            "5/5 [==============================] - 0s 10ms/step - loss: 0.1452 - categorical_accuracy: 0.6810 - val_loss: 0.1196 - val_categorical_accuracy: 0.7222\n",
            "Epoch 24/64\n",
            "5/5 [==============================] - 0s 10ms/step - loss: 0.1428 - categorical_accuracy: 0.7073 - val_loss: 0.1175 - val_categorical_accuracy: 0.7222\n",
            "Epoch 25/64\n",
            "5/5 [==============================] - 0s 9ms/step - loss: 0.1370 - categorical_accuracy: 0.6864 - val_loss: 0.1139 - val_categorical_accuracy: 0.7222\n",
            "Epoch 26/64\n",
            "5/5 [==============================] - 0s 9ms/step - loss: 0.1434 - categorical_accuracy: 0.6737 - val_loss: 0.1117 - val_categorical_accuracy: 0.7222\n",
            "Epoch 27/64\n",
            "5/5 [==============================] - 0s 9ms/step - loss: 0.1334 - categorical_accuracy: 0.6999 - val_loss: 0.1102 - val_categorical_accuracy: 0.7222\n",
            "Epoch 28/64\n",
            "5/5 [==============================] - 0s 10ms/step - loss: 0.1356 - categorical_accuracy: 0.6840 - val_loss: 0.1086 - val_categorical_accuracy: 0.7222\n",
            "Epoch 29/64\n",
            "5/5 [==============================] - 0s 11ms/step - loss: 0.1416 - categorical_accuracy: 0.6769 - val_loss: 0.1067 - val_categorical_accuracy: 0.7222\n",
            "Epoch 30/64\n",
            "5/5 [==============================] - 0s 9ms/step - loss: 0.1314 - categorical_accuracy: 0.7616 - val_loss: 0.1036 - val_categorical_accuracy: 0.7778\n",
            "Epoch 31/64\n",
            "5/5 [==============================] - 0s 10ms/step - loss: 0.1347 - categorical_accuracy: 0.7359 - val_loss: 0.1059 - val_categorical_accuracy: 0.7222\n",
            "Epoch 32/64\n",
            "5/5 [==============================] - 0s 9ms/step - loss: 0.1260 - categorical_accuracy: 0.7328 - val_loss: 0.1010 - val_categorical_accuracy: 0.8333\n",
            "Epoch 33/64\n",
            "5/5 [==============================] - 0s 10ms/step - loss: 0.1320 - categorical_accuracy: 0.7367 - val_loss: 0.0978 - val_categorical_accuracy: 0.7222\n",
            "Epoch 34/64\n",
            "5/5 [==============================] - 0s 9ms/step - loss: 0.1399 - categorical_accuracy: 0.6736 - val_loss: 0.0965 - val_categorical_accuracy: 0.8333\n",
            "Epoch 35/64\n",
            "5/5 [==============================] - 0s 9ms/step - loss: 0.1320 - categorical_accuracy: 0.7134 - val_loss: 0.0957 - val_categorical_accuracy: 0.7778\n",
            "Epoch 36/64\n",
            "5/5 [==============================] - 0s 9ms/step - loss: 0.1190 - categorical_accuracy: 0.7668 - val_loss: 0.0912 - val_categorical_accuracy: 0.8889\n",
            "Epoch 37/64\n",
            "5/5 [==============================] - 0s 10ms/step - loss: 0.1225 - categorical_accuracy: 0.7569 - val_loss: 0.0948 - val_categorical_accuracy: 0.8333\n",
            "Epoch 38/64\n",
            "5/5 [==============================] - 0s 10ms/step - loss: 0.1236 - categorical_accuracy: 0.7610 - val_loss: 0.0886 - val_categorical_accuracy: 0.8333\n",
            "Epoch 39/64\n",
            "5/5 [==============================] - 0s 11ms/step - loss: 0.1174 - categorical_accuracy: 0.8143 - val_loss: 0.0884 - val_categorical_accuracy: 0.8333\n",
            "Epoch 40/64\n",
            "5/5 [==============================] - 0s 14ms/step - loss: 0.1208 - categorical_accuracy: 0.7649 - val_loss: 0.0855 - val_categorical_accuracy: 0.8889\n",
            "Epoch 41/64\n",
            "5/5 [==============================] - 0s 12ms/step - loss: 0.1201 - categorical_accuracy: 0.7846 - val_loss: 0.0876 - val_categorical_accuracy: 0.8333\n",
            "Epoch 42/64\n",
            "5/5 [==============================] - 0s 12ms/step - loss: 0.1218 - categorical_accuracy: 0.7929 - val_loss: 0.0855 - val_categorical_accuracy: 0.8889\n",
            "Epoch 43/64\n",
            "5/5 [==============================] - 0s 11ms/step - loss: 0.1124 - categorical_accuracy: 0.7872 - val_loss: 0.0838 - val_categorical_accuracy: 0.8333\n",
            "Epoch 44/64\n",
            "5/5 [==============================] - 0s 10ms/step - loss: 0.1162 - categorical_accuracy: 0.7704 - val_loss: 0.0849 - val_categorical_accuracy: 0.8889\n",
            "Epoch 45/64\n",
            "5/5 [==============================] - 0s 9ms/step - loss: 0.1111 - categorical_accuracy: 0.7746 - val_loss: 0.0798 - val_categorical_accuracy: 0.8889\n",
            "Epoch 46/64\n",
            "5/5 [==============================] - 0s 10ms/step - loss: 0.1147 - categorical_accuracy: 0.8095 - val_loss: 0.0779 - val_categorical_accuracy: 0.9444\n",
            "Epoch 47/64\n",
            "5/5 [==============================] - 0s 10ms/step - loss: 0.1128 - categorical_accuracy: 0.7955 - val_loss: 0.0792 - val_categorical_accuracy: 0.8889\n",
            "Epoch 48/64\n",
            "5/5 [==============================] - 0s 9ms/step - loss: 0.1142 - categorical_accuracy: 0.8093 - val_loss: 0.0801 - val_categorical_accuracy: 0.8889\n",
            "Epoch 49/64\n",
            "5/5 [==============================] - 0s 10ms/step - loss: 0.1086 - categorical_accuracy: 0.7855 - val_loss: 0.0761 - val_categorical_accuracy: 0.8889\n",
            "Epoch 50/64\n",
            "5/5 [==============================] - 0s 10ms/step - loss: 0.1110 - categorical_accuracy: 0.7979 - val_loss: 0.0752 - val_categorical_accuracy: 0.9444\n",
            "Epoch 51/64\n",
            "5/5 [==============================] - 0s 10ms/step - loss: 0.1004 - categorical_accuracy: 0.8260 - val_loss: 0.0733 - val_categorical_accuracy: 0.8889\n",
            "Epoch 52/64\n",
            "5/5 [==============================] - 0s 9ms/step - loss: 0.1085 - categorical_accuracy: 0.8079 - val_loss: 0.0740 - val_categorical_accuracy: 0.8889\n",
            "Epoch 53/64\n",
            "5/5 [==============================] - 0s 10ms/step - loss: 0.1112 - categorical_accuracy: 0.8047 - val_loss: 0.0715 - val_categorical_accuracy: 0.8889\n",
            "Epoch 54/64\n",
            "5/5 [==============================] - 0s 9ms/step - loss: 0.1039 - categorical_accuracy: 0.8369 - val_loss: 0.0736 - val_categorical_accuracy: 0.8889\n",
            "Epoch 55/64\n",
            "5/5 [==============================] - 0s 9ms/step - loss: 0.1055 - categorical_accuracy: 0.8339 - val_loss: 0.0678 - val_categorical_accuracy: 0.9444\n",
            "Epoch 56/64\n",
            "5/5 [==============================] - 0s 10ms/step - loss: 0.0981 - categorical_accuracy: 0.8385 - val_loss: 0.0653 - val_categorical_accuracy: 0.8889\n",
            "Epoch 57/64\n",
            "5/5 [==============================] - 0s 10ms/step - loss: 0.0993 - categorical_accuracy: 0.8698 - val_loss: 0.0679 - val_categorical_accuracy: 0.8889\n",
            "Epoch 58/64\n",
            "5/5 [==============================] - 0s 10ms/step - loss: 0.0972 - categorical_accuracy: 0.8751 - val_loss: 0.0666 - val_categorical_accuracy: 0.9444\n",
            "Epoch 59/64\n",
            "5/5 [==============================] - 0s 10ms/step - loss: 0.0971 - categorical_accuracy: 0.8491 - val_loss: 0.0631 - val_categorical_accuracy: 0.8889\n",
            "Epoch 60/64\n",
            "5/5 [==============================] - 0s 10ms/step - loss: 0.0943 - categorical_accuracy: 0.8849 - val_loss: 0.0645 - val_categorical_accuracy: 0.9444\n",
            "Epoch 61/64\n",
            "5/5 [==============================] - 0s 13ms/step - loss: 0.1041 - categorical_accuracy: 0.8559 - val_loss: 0.0630 - val_categorical_accuracy: 0.9444\n",
            "Epoch 62/64\n",
            "5/5 [==============================] - 0s 10ms/step - loss: 0.0839 - categorical_accuracy: 0.8919 - val_loss: 0.0635 - val_categorical_accuracy: 0.9444\n",
            "Epoch 63/64\n",
            "5/5 [==============================] - 0s 10ms/step - loss: 0.0859 - categorical_accuracy: 0.9030 - val_loss: 0.0615 - val_categorical_accuracy: 0.9444\n",
            "Epoch 64/64\n",
            "5/5 [==============================] - 0s 10ms/step - loss: 0.0943 - categorical_accuracy: 0.8567 - val_loss: 0.0575 - val_categorical_accuracy: 0.9444\n"
          ],
          "name": "stdout"
        },
        {
          "output_type": "execute_result",
          "data": {
            "text/plain": [
              "<tensorflow.python.keras.callbacks.History at 0x7fc706d9fa20>"
            ]
          },
          "metadata": {
            "tags": []
          },
          "execution_count": 762
        }
      ]
    },
    {
      "cell_type": "code",
      "metadata": {
        "colab": {
          "base_uri": "https://localhost:8080/",
          "height": 282
        },
        "id": "3D3Mv_uHNkuw",
        "outputId": "a2f5ccd0-99e2-48df-99fc-0fdfbb724e1d"
      },
      "source": [
        "# ploting the output graphs\r\n",
        "wine_df=pd.DataFrame(wine_model.history.history)\r\n",
        "wine_df.plot.line()"
      ],
      "execution_count": 763,
      "outputs": [
        {
          "output_type": "execute_result",
          "data": {
            "text/plain": [
              "<matplotlib.axes._subplots.AxesSubplot at 0x7fc709636978>"
            ]
          },
          "metadata": {
            "tags": []
          },
          "execution_count": 763
        },
        {
          "output_type": "display_data",
          "data": {
            "image/png": "[encoded data removed]",
            "text/plain": [
              "<Figure size 432x288 with 1 Axes>"
            ]
          },
          "metadata": {
            "tags": [],
            "needs_background": "light"
          }
        }
      ]
    },
    {
      "cell_type": "code",
      "metadata": {
        "id": "PEQC-XKgT7nb"
      },
      "source": [
        ""
      ],
      "execution_count": 763,
      "outputs": []
    }
  ]
}