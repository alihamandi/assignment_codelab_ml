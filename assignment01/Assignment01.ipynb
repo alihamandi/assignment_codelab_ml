{
 "metadata": {
  "language_info": {
   "codemirror_mode": {
    "name": "ipython",
    "version": 3
   },
   "file_extension": ".py",
   "mimetype": "text/x-python",
   "name": "python",
   "nbconvert_exporter": "python",
   "pygments_lexer": "ipython3",
   "version": "3.8.5-final"
  },
  "orig_nbformat": 2,
  "kernelspec": {
   "name": "python3",
   "display_name": "Python 3.8.5 64-bit ('base': conda)",
   "metadata": {
    "interpreter": {
     "hash": "03f76cb250bfd79a7f4df4bac8189e4b93db71990acabbde0ac8062ee45f0d70"
    }
   }
  }
 },
 "nbformat": 4,
 "nbformat_minor": 2,
 "cells": [
  {
   "cell_type": "code",
   "execution_count": 5,
   "metadata": {},
   "outputs": [
    {
     "output_type": "stream",
     "name": "stdout",
     "text": [
      "Requirement already satisfied: pandas in /Users/alihamandi/opt/anaconda3/lib/python3.8/site-packages (1.1.3)\nRequirement already satisfied: pytz>=2017.2 in /Users/alihamandi/opt/anaconda3/lib/python3.8/site-packages (from pandas) (2020.1)\nRequirement already satisfied: numpy>=1.15.4 in /Users/alihamandi/opt/anaconda3/lib/python3.8/site-packages (from pandas) (1.19.2)\nRequirement already satisfied: python-dateutil>=2.7.3 in /Users/alihamandi/opt/anaconda3/lib/python3.8/site-packages (from pandas) (2.8.1)\nRequirement already satisfied: six>=1.5 in /Users/alihamandi/opt/anaconda3/lib/python3.8/site-packages (from python-dateutil>=2.7.3->pandas) (1.15.0)\n"
     ]
    }
   ],
   "source": [
    "!pip install pandas"
   ]
  },
  {
   "cell_type": "code",
   "execution_count": 6,
   "metadata": {},
   "outputs": [],
   "source": [
    "import pandas as pd"
   ]
  },
  {
   "cell_type": "code",
   "execution_count": 7,
   "metadata": {},
   "outputs": [],
   "source": [
    "employees = pd.read_csv('employees.csv')\n",
    "fisrt_name = employees['First Name']\n",
    "employees_copy = employees.copy()"
   ]
  },
  {
   "cell_type": "code",
   "execution_count": 8,
   "metadata": {},
   "outputs": [],
   "source": [
    "employees_copy.Salary.fillna(employees_copy.Salary.mean(),inplace=True)\n",
    "employees_copy['Bonus %'].fillna(employees_copy['Bonus %'].mean(),inplace=True)"
   ]
  },
  {
   "cell_type": "code",
   "execution_count": 9,
   "metadata": {},
   "outputs": [],
   "source": [
    "gender_list = employees.Gender.unique()\n",
    "gender_dict = {}\n",
    "for i in range(len(gender_list)):\n",
    "    employees_copy.replace(gender_list[i],i,inplace= True)\n",
    "    gender_dict[i] = gender_list[i]"
   ]
  },
  {
   "cell_type": "code",
   "execution_count": 10,
   "metadata": {},
   "outputs": [],
   "source": [
    "team_list = employees.Team.unique()\n",
    "team_dict = {}\n",
    "for i in range(len(team_list)):\n",
    "    employees_copy.replace(team_list[i],i,inplace= True)\n",
    "    team_dict[i] = team_list[i]"
   ]
  },
  {
   "cell_type": "code",
   "execution_count": 11,
   "metadata": {},
   "outputs": [],
   "source": [
    "employees_copy.to_csv('employees_copy.csv', index = False, header=True)"
   ]
  }
 ]
}