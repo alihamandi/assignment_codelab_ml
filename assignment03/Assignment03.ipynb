{
 "metadata": {
  "language_info": {
   "codemirror_mode": {
    "name": "ipython",
    "version": 3
   },
   "file_extension": ".py",
   "mimetype": "text/x-python",
   "name": "python",
   "nbconvert_exporter": "python",
   "pygments_lexer": "ipython3",
   "version": "3.8.5-final"
  },
  "orig_nbformat": 2,
  "kernelspec": {
   "name": "python3",
   "display_name": "Python 3",
   "language": "python"
  }
 },
 "nbformat": 4,
 "nbformat_minor": 2,
 "cells": [
  {
   "cell_type": "code",
   "execution_count": 116,
   "metadata": {},
   "outputs": [
    {
     "output_type": "stream",
     "name": "stdout",
     "text": [
      "Requirement already satisfied: pandas in c:\\programdata\\anaconda3\\lib\\site-packages (1.1.3)\n",
      "Requirement already satisfied: python-dateutil>=2.7.3 in c:\\programdata\\anaconda3\\lib\\site-packages (from pandas) (2.8.1)\n",
      "Requirement already satisfied: pytz>=2017.2 in c:\\programdata\\anaconda3\\lib\\site-packages (from pandas) (2020.1)\n",
      "Requirement already satisfied: numpy>=1.15.4 in c:\\programdata\\anaconda3\\lib\\site-packages (from pandas) (1.19.2)\n",
      "Requirement already satisfied: six>=1.5 in c:\\programdata\\anaconda3\\lib\\site-packages (from python-dateutil>=2.7.3->pandas) (1.15.0)\n",
      "Requirement already satisfied: sklearn in c:\\programdata\\anaconda3\\lib\\site-packages (0.0)\n",
      "Requirement already satisfied: scikit-learn in c:\\programdata\\anaconda3\\lib\\site-packages (from sklearn) (0.23.2)\n",
      "Requirement already satisfied: threadpoolctl>=2.0.0 in c:\\programdata\\anaconda3\\lib\\site-packages (from scikit-learn->sklearn) (2.1.0)\n",
      "Requirement already satisfied: numpy>=1.13.3 in c:\\programdata\\anaconda3\\lib\\site-packages (from scikit-learn->sklearn) (1.19.2)\n",
      "Requirement already satisfied: joblib>=0.11 in c:\\programdata\\anaconda3\\lib\\site-packages (from scikit-learn->sklearn) (0.17.0)\n",
      "Requirement already satisfied: scipy>=0.19.1 in c:\\programdata\\anaconda3\\lib\\site-packages (from scikit-learn->sklearn) (1.5.2)\n",
      "Requirement already satisfied: numpy in c:\\programdata\\anaconda3\\lib\\site-packages (1.19.2)\n"
     ]
    }
   ],
   "source": [
    "!pip install pandas\n",
    "!pip install sklearn\n",
    "!pip install numpy"
   ]
  },
  {
   "source": [
    "# Assignment 03"
   ],
   "cell_type": "markdown",
   "metadata": {}
  },
  {
   "source": [
    "## Importing labraries and modules"
   ],
   "cell_type": "markdown",
   "metadata": {}
  },
  {
   "cell_type": "code",
   "execution_count": 432,
   "metadata": {},
   "outputs": [],
   "source": [
    "import pandas as pd\n",
    "import numpy as np\n",
    "from sklearn import model_selection, metrics, datasets, linear_model"
   ]
  },
  {
   "source": [
    "## Loading dataset into x & y"
   ],
   "cell_type": "markdown",
   "metadata": {}
  },
  {
   "cell_type": "code",
   "execution_count": 433,
   "metadata": {},
   "outputs": [],
   "source": [
    "x, y = datasets.load_wine(return_X_y=True)"
   ]
  },
  {
   "cell_type": "code",
   "execution_count": 434,
   "metadata": {},
   "outputs": [
    {
     "output_type": "execute_result",
     "data": {
      "text/plain": [
       "array([[1.423e+01, 1.710e+00, 2.430e+00, ..., 1.040e+00, 3.920e+00,\n",
       "        1.065e+03],\n",
       "       [1.320e+01, 1.780e+00, 2.140e+00, ..., 1.050e+00, 3.400e+00,\n",
       "        1.050e+03],\n",
       "       [1.316e+01, 2.360e+00, 2.670e+00, ..., 1.030e+00, 3.170e+00,\n",
       "        1.185e+03],\n",
       "       ...,\n",
       "       [1.327e+01, 4.280e+00, 2.260e+00, ..., 5.900e-01, 1.560e+00,\n",
       "        8.350e+02],\n",
       "       [1.317e+01, 2.590e+00, 2.370e+00, ..., 6.000e-01, 1.620e+00,\n",
       "        8.400e+02],\n",
       "       [1.413e+01, 4.100e+00, 2.740e+00, ..., 6.100e-01, 1.600e+00,\n",
       "        5.600e+02]])"
      ]
     },
     "metadata": {},
     "execution_count": 434
    }
   ],
   "source": [
    "x"
   ]
  },
  {
   "cell_type": "code",
   "execution_count": 435,
   "metadata": {},
   "outputs": [
    {
     "output_type": "execute_result",
     "data": {
      "text/plain": [
       "array([0, 0, 0, 0, 0, 0, 0, 0, 0, 0, 0, 0, 0, 0, 0, 0, 0, 0, 0, 0, 0, 0,\n",
       "       0, 0, 0, 0, 0, 0, 0, 0, 0, 0, 0, 0, 0, 0, 0, 0, 0, 0, 0, 0, 0, 0,\n",
       "       0, 0, 0, 0, 0, 0, 0, 0, 0, 0, 0, 0, 0, 0, 0, 1, 1, 1, 1, 1, 1, 1,\n",
       "       1, 1, 1, 1, 1, 1, 1, 1, 1, 1, 1, 1, 1, 1, 1, 1, 1, 1, 1, 1, 1, 1,\n",
       "       1, 1, 1, 1, 1, 1, 1, 1, 1, 1, 1, 1, 1, 1, 1, 1, 1, 1, 1, 1, 1, 1,\n",
       "       1, 1, 1, 1, 1, 1, 1, 1, 1, 1, 1, 1, 1, 1, 1, 1, 1, 1, 1, 1, 2, 2,\n",
       "       2, 2, 2, 2, 2, 2, 2, 2, 2, 2, 2, 2, 2, 2, 2, 2, 2, 2, 2, 2, 2, 2,\n",
       "       2, 2, 2, 2, 2, 2, 2, 2, 2, 2, 2, 2, 2, 2, 2, 2, 2, 2, 2, 2, 2, 2,\n",
       "       2, 2])"
      ]
     },
     "metadata": {},
     "execution_count": 435
    }
   ],
   "source": [
    "y"
   ]
  },
  {
   "source": [
    "## Using Stratified shuffled K fold\n",
    "to split the data into more than one set and train each split of it"
   ],
   "cell_type": "markdown",
   "metadata": {}
  },
  {
   "cell_type": "code",
   "execution_count": 440,
   "metadata": {},
   "outputs": [
    {
     "output_type": "stream",
     "name": "stdout",
     "text": [
      "train_i [ 12  30  36  31 120   8 147 126 140  11  78  79 160  96  53  13  25  95\n 101  50  71  90 116  74  65 145  85  16 162 125 159 135  45 167 119 122\n  75  83 148  32  24  33  44  15  26  97 107 154   4 133  43  41   1 171\n  57 153  77 117  69   9  81  52  88 123  19 137 124  17  49  82  70 139\n  37   6 172  59 106 104 158 170 174 131  99  89  54   0 127  86  72 141\n 146 113 111 149   5  29   3 157 109 175 103  73 151  56  63 115  55  91\n 161  80 150  40 142  47  27  67 110 163  34 168 114 152 136  61]\ntest_i [  2  64  18   7  38  58 156  87 121 130 118  98 177  94  22 155  76  23\n 176 169 102 144 138 143  68 164  35  62  14 112  21  66 134  93 100 173\n  60 129  84  20 132  51  46  48  10  92 128  42 166  39 108 105 165  28]\n----------------------------------------------------------------------------------------------------\ntrain_i [ 69 140 124 152 139  67 102 146  49 173  12 150  36 125  50 123  94  48\n  76  56  20  79  57 114 121  97  78  47  13  18  25  73  38 126  59  99\n   4   3 136  16  90 175   8  81 107 166  87  80  60  14   9 129 167 116\n  34  29  27   5 169 177 112 158  93  32  62 163 147  82 109  19 120 101\n  51  68  33  96  10  61 122 103 138 162  11  89 151  92  83 144  42  35\n 174 170  52 127  37  28 142  91   7 143 135 104 160 159 119 168  85   0\n 117 164  54 154  15  70  40   6 106 165 137 132  65  72  43 155]\ntest_i [ 75 134  46  23 105 108  66 172  22  55  53  17 130   1 141  71 171  88\n 133  31 100  45  58 149 161 115 148  26  74  86 156  44 110  41  30   2\n  95 128  64  63 118  39 131  24  84 153  98 157 176  21 111 113  77 145]\n----------------------------------------------------------------------------------------------------\ntrain_i [177 150  89  16 144  55  52  18  74 101  82   2  71 143 126  68 167 168\n 153  60 147 104 134 142  78  96   7  30  79  58 100  76  93 171  99 111\n 138 149  80  69 170  42 141 121 113 129 165  20 109  86 146  51  15  53\n  75  44  40  54  91  87 125  77  38  50 115  26  83 163 131 164 175 157\n  39   0 117  49 162  21 148 114  37  64 130  72  13 159  36  65 139  41\n  66  31  85 135 105 107   6  10  33  22  14  11 173 128 155 158  56  81\n  98  73   8 106  23  95 122  67 127  94 136 151  35   3  25  43]\ntest_i [ 19 161 137 119 176  24  46 166  70  84 152  27 118   9 169   5  63 110\n 108 112 103 123  97  92  61 102   4 174 145  29  45 160 172 132  28   1\n 116 124  90  62  59  47  34 133  12  17 120  32  88 140 156  57  48 154]\n----------------------------------------------------------------------------------------------------\ntrain_i [ 45 128 123 144 102 111  51 114  53  17 100  93  97  65 177   0   9 112\n  34  11  21  67  28  60  54 170 103  73  57  66 141  59   4 160 132  87\n  61  90  95  68 118 137  19  25 140  27 168  99  94  33  37  29  89  77\n 175  50  72 117 165 143 116  55  12  20 124 161  31 110 138  35 167  40\n  30  36 126 176 166 106 147  15 164  26 113  42 129 152  80  48 130 145\n 150 169  75 125  82 148  62  92  88 109 149 139  43 108 171 134 159  63\n 133  47 142  86  79  18  58   8 131 120   3  44  10  23 107  74]\ntest_i [156 163  22  84 173 154  16 151  49  83  98 104  32 136  39 155  85  56\n 135 172  78   6 119 115  24   2 127 146  81  52 105  91  76  96   1 158\n 101 162  69  41   7  70 122  71  14 153  13  38 174  46  64 157 121   5]\n----------------------------------------------------------------------------------------------------\ntrain_i [162 112   0   6  12 126  64   4  26  93 122  32  67  42  86  85  68  80\n  48 158  65  59  35  14 146 137  22  78  44 104  56 134 170 138  39  77\n 100 115  46  24 151   1 119  25  55  70 127  91  21 139  41  20 150 110\n 145 109 129 167  15  88  99 144 131  83 105  57  31  40  60 156 147 159\n  96  63 120 155 106 123  51  90  74 128  30 111  19 108 165  79   7 152\n 149 121 171   3 148  23 116 130  69  94 143   8 157  58  17 175 114  66\n 164  45 169 173  28 125 124  71 132  27 161 160   5  10  76  13]\ntest_i [141  81 135  87   2 154 102  75  54  33 166 163  84 107  72  98  95 174\n 176  62 118 142 136  37  43  16 133  52  61 168   9 172  97 117  92  49\n  18 103  50 177  11 140  82  89  53 101  36  38 113 153  47  29  34  73]\n----------------------------------------------------------------------------------------------------\ntrain_i [ 84 108  30  81  31  29 177 154  68  88 175 174  27 110  78 128  51   8\n 158  49  65  97 167  79  38  94 118 131  72  89  55 129 146 124 176 107\n 139  71  76 121 172 164  59  98 157 106  32 101  52 156  83  19 137  18\n 102 119 136   1  36 163  85  40  63 168  87 161 116  56  57 171  13  44\n 112 117 125 150  61  16  46  92 169   9 105  47 111 173 113  22  41  21\n  53  28   5  12  58 148 114  42  10 153  39 100 115 162 144   6 138 130\n  93  62  95 160  67 165 134 159  20  45   3  35  64  77  25  60]\ntest_i [ 80  86 166 143  17 145  54 133   7  82  23  33  69  26 132  99  15  14\n 103  34  70 104  37 149   2 123   4  24  48  75  90 140 142  91  73  43\n  66 109 135  50  74  11 152   0 155 120  96 147 127 151 141 170 126 122]\n----------------------------------------------------------------------------------------------------\ntrain_i [ 90 156  92 132 117 146 112 128 163 148  13 170  32 169   4  72  78 164\n  22  35  26  94  24  20  99  93 168   0 158 173 162 136  43  56 114 107\n  41 127  71  34  16 100  67 147  29 109  86  82  28   1  98  89 140   7\n  91  59  36  25  69  80 174 177  60  39 133  11 167  88 110 161 123 149\n 125  77 172 119  96 165   2 135  31 118  47  62 159 141 121   9 154 160\n  76  19 134  42 143  23 152  14 130 129  75  44  97  84  54 131  66  53\n  48  61 111  46 113  15   6  65  27  38 116  87  85  68  21  57]\ntest_i [157 171 102 105  45  18 144  40 101   3 122   8 138  83  79 126   5  55\n 124  33 145  74  73 150  64 104 108  17 106 115 175  37 139  51  52  50\n 176  30 166 103  81 142  12  70 155  10 137  63 151  58 153 120  95  49]\n----------------------------------------------------------------------------------------------------\ntrain_i [  9  87   4  88  92  48  26   0 123  50  86 141  59 106  46  32  33   8\n  83  21  78 159  97  89 101  43 156 147  74 126 132 158 109  47  42  57\n 111 142  35 104 127  29  56 172 169 171 138 100 167  45  23  84  76 129\n 105  94 174 103 154  25  37  64  71 102 177 143 135  62 110 122 139  18\n  69 155  91  98 176  70  10   2 133 117 162 168 115   6  22  15  53 165\n  41 145 131  16 164  40  77  55  34  81  49 166  20   7  99 118   1 160\n  93  66  38  82  61 107  75  67 116  39 136  36 150  90 157 149]\ntest_i [ 58 170 153 163 161 152  51 124  63 125 119 173 128 112  54   3 140  65\n 134 113  72  80  13  30 108  73 121  17 146   5 175  79  27 144 151  28\n  68  19  95  14  52 114  85 148  44  24  31  60 130  96 120 137  12  11]\n----------------------------------------------------------------------------------------------------\ntrain_i [ 72  38   2 146 156 149 140  19 116 119 106 138   6  14  16 126  80 172\n  49 128 103 125  65  83 175  70  25 164  60  86 142  74  77 139  96  98\n 173  15  46  76 135  27 112  20 160   5 131  78 145 157  66 105 130  12\n 143  31  92 100 168 171 144   9 167 110  87 165 124  41  85  10  42  13\n  47  43  52 111  71   4  75  84  40  91 136   7  61 101 109  24  36  67\n 158 159  26 117 169  28   0 163 174 118 127  22 151 113  34  39   8   1\n   3 161  73  69 123 137  58  81  90  56  51 170 114  68  88  32]\ntest_i [141 108  55 120  30  89 102  53  37 132  11  44 155  59  23  79 107 166\n 122  50 148  18  97 134  57  29 153  17  64 115  45  95  33 150 129 133\n  62 162 176 152  82 121  93  48  54  99  63  94 104  21 147 154 177  35]\n----------------------------------------------------------------------------------------------------\ntrain_i [169 102  79 114 106   7  63 115  59  87 109 146  29  30  77  56  96  93\n   0  76 126  39  65  95 136  23  31  78 142 150   4  24  73 138  50  70\n 157 105  61  41  68  22 166 172  47  25  40  21 101 112 139  83 118  48\n  98 165 144 145 140  27  75  36  89   1 159 174  53 134  19 160  33  69\n  81 108   2 127 162  97  44 164  49  43  71 175  18 143   6  84 107  82\n  94 176   5  28  90 100 129 161  58  42 141   3 155 132  64  26 103 116\n  15 171   9  32 158  46 121  10 149  92 168 133 128 124  85 148]\ntest_i [120 104  34  35 137  80 122 153 147  12 156 167  86  52 131  66  54 163\n 152 177 173  45 154  20  57  11   8  38 125  14  51  99 119  88  72 170\n  37  13  62  74 113 135  17 130  55  16  91 123 111  67  60 117 110 151]\n----------------------------------------------------------------------------------------------------\n"
     ]
    }
   ],
   "source": [
    "folds = model_selection.StratifiedShuffleSplit(10, random_state= 42, test_size=0.3)\n",
    "#this loop is to print the folds that we created\n",
    "for train_i, test_i in folds.split(x, y):\n",
    "    print('train_i', train_i)\n",
    "    print('test_i', test_i)\n",
    "    print('-'*100)\n",
    "    "
   ]
  },
  {
   "source": [
    "## Training\n",
    "We are training this model with a loop for the fold that was already created"
   ],
   "cell_type": "markdown",
   "metadata": {}
  },
  {
   "cell_type": "code",
   "execution_count": 437,
   "metadata": {},
   "outputs": [],
   "source": [
    "accuracy = []\n",
    "for train_i, test_i in folds.split(x, y):\n",
    "    x_train = x[train_i]\n",
    "    y_train = y[train_i]\n",
    "    x_test = x[test_i]\n",
    "    y_test = y[test_i]\n",
    "    training_model = linear_model.LogisticRegression(penalty='l2', C=0.1, random_state = 42)\n",
    "    training_model.fit(x_train, y_train)\n",
    "    pred = training_model.predict(x_test)\n",
    "    accuracy.append(metrics.accuracy_score(y_test, pred))\n"
   ]
  },
  {
   "source": [
    "printing accuracy scores for the folds and the whole model"
   ],
   "cell_type": "markdown",
   "metadata": {}
  },
  {
   "cell_type": "code",
   "execution_count": 438,
   "metadata": {},
   "outputs": [
    {
     "output_type": "stream",
     "name": "stdout",
     "text": [
      "fold 1 :  0.9814814814814815\nfold 2 :  0.9629629629629629\nfold 3 :  0.9444444444444444\nfold 4 :  0.9629629629629629\nfold 5 :  0.9629629629629629\nfold 6 :  0.9074074074074074\nfold 7 :  0.9259259259259259\nfold 8 :  0.9444444444444444\nfold 9 :  1.0\nfold 10 :  0.9629629629629629\n"
     ]
    }
   ],
   "source": [
    "for i in range(10):\n",
    "    print('fold', i + 1, ': ', accuracy[i])"
   ]
  },
  {
   "cell_type": "code",
   "execution_count": 439,
   "metadata": {},
   "outputs": [
    {
     "output_type": "execute_result",
     "data": {
      "text/plain": [
       "0.9555555555555555"
      ]
     },
     "metadata": {},
     "execution_count": 439
    }
   ],
   "source": [
    "mean = np.mean(accuracy)\n",
    "mean"
   ]
  }
 ]
}